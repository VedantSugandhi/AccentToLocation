{
 "cells": [
  {
   "cell_type": "code",
   "execution_count": 31,
   "metadata": {},
   "outputs": [
    {
     "name": "stdout",
     "output_type": "stream",
     "text": [
      "country\n",
      "usa         393\n",
      "china        88\n",
      "uk           67\n",
      "india        59\n",
      "canada       54\n",
      "           ... \n",
      "namibia       1\n",
      "romanian      1\n",
      "burundi       1\n",
      "rwanda        1\n",
      "benin         1\n",
      "Name: count, Length: 176, dtype: int64\n"
     ]
    }
   ],
   "source": [
    "import pandas as pd\n",
    "\n",
    "df = pd.read_csv('Dataset/speakers_all.csv',delimiter=',')\n",
    "unique_countries = df['country'].nunique()\n",
    "country_counts = df['country'].value_counts()\n",
    "\n",
    "print(country_counts)"
   ]
  },
  {
   "cell_type": "code",
   "execution_count": 32,
   "metadata": {},
   "outputs": [
    {
     "data": {
      "text/html": [
       "<div>\n",
       "<style scoped>\n",
       "    .dataframe tbody tr th:only-of-type {\n",
       "        vertical-align: middle;\n",
       "    }\n",
       "\n",
       "    .dataframe tbody tr th {\n",
       "        vertical-align: top;\n",
       "    }\n",
       "\n",
       "    .dataframe thead th {\n",
       "        text-align: right;\n",
       "    }\n",
       "</style>\n",
       "<table border=\"1\" class=\"dataframe\">\n",
       "  <thead>\n",
       "    <tr style=\"text-align: right;\">\n",
       "      <th></th>\n",
       "      <th>age</th>\n",
       "      <th>age_onset</th>\n",
       "      <th>birthplace</th>\n",
       "      <th>filename</th>\n",
       "      <th>native_language</th>\n",
       "      <th>sex</th>\n",
       "      <th>speakerid</th>\n",
       "      <th>country</th>\n",
       "      <th>file_missing?</th>\n",
       "      <th>Unnamed: 9</th>\n",
       "      <th>Unnamed: 10</th>\n",
       "      <th>Unnamed: 11</th>\n",
       "    </tr>\n",
       "  </thead>\n",
       "  <tbody>\n",
       "    <tr>\n",
       "      <th>0</th>\n",
       "      <td>24.0</td>\n",
       "      <td>12.0</td>\n",
       "      <td>koussi, senegal</td>\n",
       "      <td>balanta</td>\n",
       "      <td>balanta</td>\n",
       "      <td>male</td>\n",
       "      <td>788</td>\n",
       "      <td>senegal</td>\n",
       "      <td>True</td>\n",
       "      <td>NaN</td>\n",
       "      <td>NaN</td>\n",
       "      <td>NaN</td>\n",
       "    </tr>\n",
       "    <tr>\n",
       "      <th>1</th>\n",
       "      <td>18.0</td>\n",
       "      <td>10.0</td>\n",
       "      <td>buea, cameroon</td>\n",
       "      <td>cameroon</td>\n",
       "      <td>cameroon</td>\n",
       "      <td>male</td>\n",
       "      <td>1953</td>\n",
       "      <td>cameroon</td>\n",
       "      <td>True</td>\n",
       "      <td>NaN</td>\n",
       "      <td>NaN</td>\n",
       "      <td>NaN</td>\n",
       "    </tr>\n",
       "    <tr>\n",
       "      <th>2</th>\n",
       "      <td>48.0</td>\n",
       "      <td>8.0</td>\n",
       "      <td>hong, adamawa, nigeria</td>\n",
       "      <td>fulfulde</td>\n",
       "      <td>fulfulde</td>\n",
       "      <td>male</td>\n",
       "      <td>1037</td>\n",
       "      <td>nigeria</td>\n",
       "      <td>True</td>\n",
       "      <td>NaN</td>\n",
       "      <td>NaN</td>\n",
       "      <td>NaN</td>\n",
       "    </tr>\n",
       "    <tr>\n",
       "      <th>3</th>\n",
       "      <td>42.0</td>\n",
       "      <td>42.0</td>\n",
       "      <td>port-au-prince, haiti</td>\n",
       "      <td>haitian</td>\n",
       "      <td>haitian</td>\n",
       "      <td>male</td>\n",
       "      <td>1165</td>\n",
       "      <td>haiti</td>\n",
       "      <td>True</td>\n",
       "      <td>NaN</td>\n",
       "      <td>NaN</td>\n",
       "      <td>NaN</td>\n",
       "    </tr>\n",
       "    <tr>\n",
       "      <th>4</th>\n",
       "      <td>40.0</td>\n",
       "      <td>35.0</td>\n",
       "      <td>port-au-prince, haiti</td>\n",
       "      <td>haitian</td>\n",
       "      <td>haitian</td>\n",
       "      <td>male</td>\n",
       "      <td>1166</td>\n",
       "      <td>haiti</td>\n",
       "      <td>True</td>\n",
       "      <td>NaN</td>\n",
       "      <td>NaN</td>\n",
       "      <td>NaN</td>\n",
       "    </tr>\n",
       "  </tbody>\n",
       "</table>\n",
       "</div>"
      ],
      "text/plain": [
       "    age  age_onset              birthplace  filename native_language   sex  \\\n",
       "0  24.0       12.0         koussi, senegal   balanta         balanta  male   \n",
       "1  18.0       10.0          buea, cameroon  cameroon        cameroon  male   \n",
       "2  48.0        8.0  hong, adamawa, nigeria  fulfulde        fulfulde  male   \n",
       "3  42.0       42.0   port-au-prince, haiti   haitian         haitian  male   \n",
       "4  40.0       35.0   port-au-prince, haiti   haitian         haitian  male   \n",
       "\n",
       "   speakerid   country  file_missing?  Unnamed: 9  Unnamed: 10 Unnamed: 11  \n",
       "0        788   senegal           True         NaN          NaN         NaN  \n",
       "1       1953  cameroon           True         NaN          NaN         NaN  \n",
       "2       1037   nigeria           True         NaN          NaN         NaN  \n",
       "3       1165     haiti           True         NaN          NaN         NaN  \n",
       "4       1166     haiti           True         NaN          NaN         NaN  "
      ]
     },
     "execution_count": 32,
     "metadata": {},
     "output_type": "execute_result"
    }
   ],
   "source": [
    "df.head()"
   ]
  },
  {
   "cell_type": "code",
   "execution_count": 33,
   "metadata": {},
   "outputs": [],
   "source": [
    "countries_to_continents = {\n",
    "    \"afghanistan\": \"Asia\",\n",
    "    \"armenia\": \"Asia\",\n",
    "    \"azerbaijan\": \"Asia\",\n",
    "    \"bahrain\": \"Asia\",\n",
    "    \"bangladesh\": \"Asia\",\n",
    "    \"bhutan\": \"Asia\",\n",
    "    \"brunei\": \"Asia\",\n",
    "    \"cambodia\": \"Asia\",\n",
    "    \"china\": \"Asia\",\n",
    "    \"cyprus\": \"Asia\",\n",
    "    \"east timor\": \"Asia\",\n",
    "    \"egypt\": \"Asia\",\n",
    "    \"georgia\": \"Asia\",\n",
    "    \"india\": \"Asia\",\n",
    "    \"indonesia\": \"Asia\",\n",
    "    \"iran\": \"Asia\",\n",
    "    \"iraq\": \"Asia\",\n",
    "    \"israel\": \"Asia\",\n",
    "    \"japan\": \"Asia\",\n",
    "    \"jordan\": \"Asia\",\n",
    "    \"kazakhstan\": \"Asia\",\n",
    "    \"kuwait\": \"Asia\",\n",
    "    \"kyrgyzstan\": \"Asia\",\n",
    "    \"laos\": \"Asia\",\n",
    "    \"lebanon\": \"Asia\",\n",
    "    \"malaysia\": \"Asia\",\n",
    "    \"maldives\": \"Asia\",\n",
    "    \"mongolia\": \"Asia\",\n",
    "    \"myanmar\": \"Asia\",\n",
    "    \"nepal\": \"Asia\",\n",
    "    \"north korea\": \"Asia\",\n",
    "    \"oman\": \"Asia\",\n",
    "    \"pakistan\": \"Asia\",\n",
    "    \"palestine\": \"Asia\",\n",
    "    \"philippines\": \"Asia\",\n",
    "    \"qatar\": \"Asia\",\n",
    "    \"russia\": \"Asia\",\n",
    "    \"saudi arabia\": \"Asia\",\n",
    "    \"singapore\": \"Asia\",\n",
    "    \"south korea\": \"Asia\",\n",
    "    \"sri lanka\": \"Asia\",\n",
    "    \"syria\": \"Asia\",\n",
    "    \"taiwan\": \"Asia\",\n",
    "    \"tajikistan\": \"Asia\",\n",
    "    \"thailand\": \"Asia\",\n",
    "    \"turkey\": \"Asia\",\n",
    "    \"turkmenistan\": \"Asia\",\n",
    "    \"united arab emirates\": \"Asia\",\n",
    "    \"uzbekistan\": \"Asia\",\n",
    "    \"vietnam\": \"Asia\",\n",
    "    \"yemen\": \"Asia\",\n",
    "    \"albania\": \"Europe\",\n",
    "    \"andorra\": \"Europe\",\n",
    "    \"austria\": \"Europe\",\n",
    "    \"belarus\": \"Europe\",\n",
    "    \"belgium\": \"Europe\",\n",
    "    \"bosnia and herzegovina\": \"Europe\",\n",
    "    \"bulgaria\": \"Europe\",\n",
    "    \"croatia\": \"Europe\",\n",
    "    \"cyprus\": \"Europe\",\n",
    "    \"czech republic\": \"Europe\",\n",
    "    \"denmark\": \"Europe\",\n",
    "    \"estonia\": \"Europe\",\n",
    "    \"finland\": \"Europe\",\n",
    "    \"france\": \"Europe\",\n",
    "    \"germany\": \"Europe\",\n",
    "    \"greece\": \"Europe\",\n",
    "    \"hungary\": \"Europe\",\n",
    "    \"iceland\": \"Europe\",\n",
    "    \"ireland\": \"Europe\",\n",
    "    \"italy\": \"Europe\",\n",
    "    \"kosovo\": \"Europe\",\n",
    "    \"latvia\": \"Europe\",\n",
    "    \"liechtenstein\": \"Europe\",\n",
    "    \"lithuania\": \"Europe\",\n",
    "    \"luxembourg\": \"Europe\",\n",
    "    \"north macedonia\": \"Europe\",\n",
    "    \"malta\": \"Europe\",\n",
    "    \"moldova\": \"Europe\",\n",
    "    \"monaco\": \"Europe\",\n",
    "    \"montenegro\": \"Europe\",\n",
    "    \"netherlands\": \"Europe\",\n",
    "    \"norway\": \"Europe\",\n",
    "    \"poland\": \"Europe\",\n",
    "    \"portugal\": \"Europe\",\n",
    "    \"romania\": \"Europe\",\n",
    "    \"russia\": \"Europe\",\n",
    "    \"san marino\": \"Europe\",\n",
    "    \"serbia\": \"Europe\",\n",
    "    \"slovakia\": \"Europe\",\n",
    "    \"slovenia\": \"Europe\",\n",
    "    \"spain\": \"Europe\",\n",
    "    \"sweden\": \"Europe\",\n",
    "    \"switzerland\": \"Europe\",\n",
    "    \"turkey\": \"Europe\",\n",
    "    \"ukraine\": \"Europe\",\n",
    "    \"united kingdom\": \"Europe\",\n",
    "    \"argentina\": \"South America\",\n",
    "    \"bolivia\": \"South America\",\n",
    "    \"brazil\": \"South America\",\n",
    "    \"chile\": \"South America\",\n",
    "    \"colombia\": \"South America\",\n",
    "    \"ecuador\": \"South America\",\n",
    "    \"guyana\": \"South America\",\n",
    "    \"paraguay\": \"South America\",\n",
    "    \"peru\": \"South America\",\n",
    "    \"suriname\": \"South America\",\n",
    "    \"uruguay\": \"South America\",\n",
    "    \"venezuela\": \"South America\",\n",
    "    \"canada\": \"North America\",\n",
    "    \"usa\": \"North America\",\n",
    "    \"mexico\": \"North America\",\n",
    "    \"belize\": \"North America\",\n",
    "    \"costa rica\": \"North America\",\n",
    "    \"el salvador\": \"North America\",\n",
    "    \"guatemala\": \"North America\",\n",
    "    \"honduras\": \"North America\",\n",
    "    \"nicaragua\": \"North America\",\n",
    "    \"panama\": \"North America\",\n",
    "    \"antigua and barbuda\": \"North America\",\n",
    "    \"bahamas\": \"North America\",\n",
    "    \"barbados\": \"North America\",\n",
    "    \"cuba\": \"North America\",\n",
    "    \"dominica\": \"North America\",\n",
    "    \"dominican republic\": \"North America\",\n",
    "    \"grenada\": \"North America\",\n",
    "    \"haiti\": \"North America\",\n",
    "    \"jamaica\": \"North America\",\n",
    "    \"saint kitts and nevis\": \"North America\",\n",
    "    \"saint lucia\": \"North America\",\n",
    "    \"saint vincent and the grenadines\": \"North America\",\n",
    "    \"trinidad and tobago\": \"North America\",\n",
    "    \"algeria\": \"Africa\",\n",
    "    \"angola\": \"Africa\",\n",
    "    \"benin\": \"Africa\",\n",
    "    \"botswana\": \"Africa\",\n",
    "    \"burkina Faso\": \"Africa\",\n",
    "    \"burundi\": \"Africa\",\n",
    "    \"cabo verde\": \"Africa\",\n",
    "    \"cameroon\": \"Africa\",\n",
    "    \"central african republic\": \"Africa\",\n",
    "    \"chad\": \"Africa\",\n",
    "    \"comoros\": \"Africa\",\n",
    "    \"democratic republic of the congo\": \"Africa\",\n",
    "    \"republic of the congo\": \"Africa\",\n",
    "    \"côte d'Ivoire\": \"Africa\",\n",
    "    \"djibouti\": \"Africa\",\n",
    "    \"egypt\": \"Africa\",\n",
    "    \"equatorial guinea\": \"Africa\",\n",
    "    \"eritrea\": \"Africa\",\n",
    "    \"eswatini\": \"Africa\",\n",
    "    \"ethiopia\": \"Africa\",\n",
    "    \"gabon\": \"Africa\",\n",
    "    \"gambia\": \"Africa\",\n",
    "    \"ghana\": \"Africa\",\n",
    "    \"guinea\": \"Africa\",\n",
    "    \"guinea-bissau\": \"Africa\",\n",
    "    \"ivory coast\":\"Africa\",\n",
    "    \"kenya\": \"Africa\",\n",
    "    \"lesotho\": \"Africa\",\n",
    "    \"liberia\": \"Africa\",\n",
    "    \"libya\": \"Africa\",\n",
    "    \"madagascar\": \"Africa\",\n",
    "    \"malawi\": \"Africa\",\n",
    "    \"mali\": \"Africa\",\n",
    "    \"mauritania\": \"Africa\",\n",
    "    \"mauritius\": \"Africa\",\n",
    "    \"morocco\": \"Africa\",\n",
    "    \"mozambique\": \"Africa\",\n",
    "    \"namibia\": \"Africa\",\n",
    "    \"niger\": \"Africa\",\n",
    "    \"nigeria\": \"Africa\",\n",
    "    \"rwanda\": \"Africa\",\n",
    "    \"são tomé and príncipe\": \"Africa\",\n",
    "    \"senegal\": \"Africa\",\n",
    "    \"seychelles\": \"Africa\",\n",
    "    \"sierra leone\": \"Africa\",\n",
    "    \"somalia\": \"Africa\",\n",
    "    \"south africa\": \"Africa\",\n",
    "    \"south sudan\": \"Africa\",\n",
    "    \"sudan\": \"Africa\",\n",
    "    \"tanzania\": \"Africa\",\n",
    "    \"togo\": \"Africa\",\n",
    "    \"tunisia\": \"Africa\",\n",
    "    \"uganda\": \"Africa\",\n",
    "    \"zambia\": \"Africa\",\n",
    "    \"zimbabwe\": \"Africa\",\n",
    "    \"antarctica\": \"Antarctica\",\n",
    "    \"australia\": \"Oceania\",\n",
    "    \"fiji\": \"Oceania\",\n",
    "    \"kiribati\": \"Oceania\",\n",
    "    \"marshall islands\": \"Oceania\",\n",
    "    \"micronesia, federated states of\": \"Oceania\",\n",
    "    \"nauru\": \"Oceania\",\n",
    "    \"new zealand\": \"Oceania\",\n",
    "    \"palau\": \"Oceania\",\n",
    "    \"papua new guinea\": \"Oceania\",\n",
    "    \"samoa\": \"Oceania\",\n",
    "    \"solomon islands\": \"Oceania\",\n",
    "    \"tonga\": \"Oceania\",\n",
    "    \"tuvalu\": \"Oceania\",\n",
    "    \"vanuatu\": \"Oceania\"\n",
    "}"
   ]
  },
  {
   "cell_type": "code",
   "execution_count": 34,
   "metadata": {},
   "outputs": [
    {
     "name": "stdout",
     "output_type": "stream",
     "text": [
      "0     senegal\n",
      "1    cameroon\n",
      "2     nigeria\n",
      "3       haiti\n",
      "4       haiti\n",
      "Name: country, dtype: object\n",
      "198\n"
     ]
    }
   ],
   "source": [
    "print(df['country'].head())\n",
    "print(len(countries_to_continents))"
   ]
  },
  {
   "cell_type": "code",
   "execution_count": 35,
   "metadata": {},
   "outputs": [
    {
     "data": {
      "text/plain": [
       "0        True\n",
       "1        True\n",
       "2        True\n",
       "3        True\n",
       "4        True\n",
       "        ...  \n",
       "2165    False\n",
       "2166    False\n",
       "2167    False\n",
       "2168    False\n",
       "2169    False\n",
       "Name: file_missing?, Length: 2170, dtype: bool"
      ]
     },
     "execution_count": 35,
     "metadata": {},
     "output_type": "execute_result"
    }
   ],
   "source": [
    "#type(df['file_missing?'])\n",
    "df['file_missing?']"
   ]
  },
  {
   "cell_type": "code",
   "execution_count": 36,
   "metadata": {},
   "outputs": [
    {
     "data": {
      "text/plain": [
       "(2170, 12)"
      ]
     },
     "execution_count": 36,
     "metadata": {},
     "output_type": "execute_result"
    }
   ],
   "source": [
    "df.shape"
   ]
  },
  {
   "cell_type": "code",
   "execution_count": 37,
   "metadata": {},
   "outputs": [],
   "source": [
    "df.drop(df[df['file_missing?'] == True].index, inplace=True)\n"
   ]
  },
  {
   "cell_type": "code",
   "execution_count": 38,
   "metadata": {},
   "outputs": [
    {
     "data": {
      "text/plain": [
       "(2138, 12)"
      ]
     },
     "execution_count": 38,
     "metadata": {},
     "output_type": "execute_result"
    }
   ],
   "source": [
    "df.head()\n",
    "df.shape"
   ]
  },
  {
   "cell_type": "code",
   "execution_count": 39,
   "metadata": {},
   "outputs": [],
   "source": [
    "X = df['filename']"
   ]
  },
  {
   "cell_type": "code",
   "execution_count": 40,
   "metadata": {},
   "outputs": [],
   "source": [
    "# filtered_dict = {country: countries_to_continents[country] for country in y_labels if country in countries_to_continents}\n",
    "# continents_list = [countries_to_continents.get(country, 'Other') for country in countries_to_continents]\n",
    "# yc_labels = list(filtered_dict.values())\n",
    "# df = pd.DataFrame({\"country\": [\"cameroon\", \"senegal\"]})\n",
    "df[\"continents\"] = df[\"country\"].map(countries_to_continents)\n",
    "y_labels = df['continents']"
   ]
  },
  {
   "cell_type": "code",
   "execution_count": 41,
   "metadata": {},
   "outputs": [
    {
     "data": {
      "text/plain": [
       "pandas.core.series.Series"
      ]
     },
     "execution_count": 41,
     "metadata": {},
     "output_type": "execute_result"
    }
   ],
   "source": [
    "type(df['continents'])"
   ]
  },
  {
   "cell_type": "code",
   "execution_count": 42,
   "metadata": {},
   "outputs": [
    {
     "name": "stdout",
     "output_type": "stream",
     "text": [
      "continents\n",
      "Asia             566\n",
      "North America    530\n",
      "Europe           505\n",
      "Africa           217\n",
      "South America    125\n",
      "Oceania           50\n",
      "Name: count, dtype: int64\n"
     ]
    }
   ],
   "source": [
    "# Assuming 'df' is your DataFrame and 'continents' is the column name\n",
    "continent_counts = df['continents'].value_counts()\n",
    "\n",
    "# Display the count of unique values in the 'continents' column\n",
    "print(continent_counts)\n"
   ]
  },
  {
   "cell_type": "code",
   "execution_count": 43,
   "metadata": {},
   "outputs": [
    {
     "name": "stdout",
     "output_type": "stream",
     "text": [
      "(2138,)\n",
      "(2138,)\n"
     ]
    },
    {
     "data": {
      "text/plain": [
       "32             Africa\n",
       "33             Africa\n",
       "34             Africa\n",
       "35             Africa\n",
       "36             Africa\n",
       "            ...      \n",
       "2165           Africa\n",
       "2166           Africa\n",
       "2167           Africa\n",
       "2168    North America\n",
       "2169           Africa\n",
       "Name: continents, Length: 2138, dtype: object"
      ]
     },
     "execution_count": 43,
     "metadata": {},
     "output_type": "execute_result"
    }
   ],
   "source": [
    "print(X.shape)\n",
    "print(y_labels.shape)\n",
    "y_labels"
   ]
  },
  {
   "cell_type": "code",
   "execution_count": 44,
   "metadata": {},
   "outputs": [],
   "source": [
    "import pandas as pd\n",
    "\n",
    "base_path = 'Dataset/recordings/'\n",
    "\n",
    "X = base_path + X + '.mp3'\n",
    "# X_test = base_path + X_test + '.mp3'\n",
    "\n",
    "X_image_paths = X.tolist()\n",
    "# X_test_image_paths = X_test.tolist()\n"
   ]
  },
  {
   "cell_type": "code",
   "execution_count": 45,
   "metadata": {},
   "outputs": [
    {
     "name": "stdout",
     "output_type": "stream",
     "text": [
      "['Dataset/recordings/afrikaans1.mp3', 'Dataset/recordings/afrikaans2.mp3', 'Dataset/recordings/afrikaans3.mp3', 'Dataset/recordings/afrikaans4.mp3', 'Dataset/recordings/afrikaans5.mp3']\n"
     ]
    }
   ],
   "source": [
    "print(X_image_paths[:5])\n",
    "# print(X_test_image_paths[:5])"
   ]
  },
  {
   "cell_type": "code",
   "execution_count": 46,
   "metadata": {},
   "outputs": [],
   "source": [
    "import librosa\n",
    "import numpy as np\n",
    "\n",
    "# Function to extract features from audio file\n",
    "def extract_features(file_path):\n",
    "    try:\n",
    "        # Load audio file\n",
    "        y, sr = librosa.load(file_path)\n",
    "        \n",
    "        # Extract MFCCs (Mel-frequency cepstral coefficients)\n",
    "        mfccs = librosa.feature.mfcc(y=y, sr=sr, n_mfcc=13)\n",
    "        mfccs_mean = np.mean(mfccs, axis=1)\n",
    "        \n",
    "        return mfccs_mean  # Return the extracted features (MFCCs mean)\n",
    "    except Exception as e:\n",
    "        print(f\"Error processing {file_path}: {e}\")\n",
    "        return None\n",
    "\n",
    "# Extract features for each audio file in X_train_image_paths\n",
    "extracted_features = []\n",
    "for file_path in X_image_paths:\n",
    "    features = extract_features(file_path)\n",
    "    if features is not None:\n",
    "        extracted_features.append(features)\n",
    "\n",
    "# Convert the list of features to a NumPy array\n",
    "X_image_features = np.array(extracted_features)"
   ]
  },
  {
   "cell_type": "code",
   "execution_count": 47,
   "metadata": {},
   "outputs": [
    {
     "name": "stdout",
     "output_type": "stream",
     "text": [
      "[[-2.80801056e+02  9.92121658e+01  1.62540607e+01 ... -5.14061308e+00\n",
      "  -2.73235774e+00 -1.15841284e+01]\n",
      " [-2.47785660e+02  9.27956161e+01  7.03312778e+00 ... -1.42139807e+01\n",
      "  -1.34980392e+00 -6.84289598e+00]\n",
      " [-2.97333496e+02  1.09309593e+02  4.86944342e+00 ... -2.04761243e+00\n",
      "  -6.17281675e+00 -9.02794838e+00]\n",
      " ...\n",
      " [-3.78120209e+02  1.26679924e+02  1.61770077e+01 ... -2.81823087e+00\n",
      "  -9.12053776e+00 -6.03319788e+00]\n",
      " [-3.08208038e+02  1.27284134e+02 -2.40374565e+01 ... -8.25175571e+00\n",
      "  -8.97601318e+00  3.13905805e-01]\n",
      " [-2.54454681e+02  8.36123657e+01 -7.57016230e+00 ... -8.22624207e+00\n",
      "  -8.20982742e+00 -4.99016237e+00]]\n"
     ]
    }
   ],
   "source": [
    "print(X_image_features)"
   ]
  },
  {
   "cell_type": "code",
   "execution_count": 48,
   "metadata": {},
   "outputs": [
    {
     "data": {
      "text/plain": [
       "(2138,)"
      ]
     },
     "execution_count": 48,
     "metadata": {},
     "output_type": "execute_result"
    }
   ],
   "source": [
    "y_labels.shape"
   ]
  },
  {
   "cell_type": "code",
   "execution_count": 49,
   "metadata": {},
   "outputs": [
    {
     "name": "stdout",
     "output_type": "stream",
     "text": [
      "<class 'pandas.core.series.Series'>\n"
     ]
    }
   ],
   "source": [
    "print(type(y_labels))\n",
    "y_labels_array = y_labels.values  # Convert Series to a NumPy array\n",
    "y_labels = np.reshape(y_labels_array, (y_labels.shape[0], -1))"
   ]
  },
  {
   "cell_type": "code",
   "execution_count": 50,
   "metadata": {},
   "outputs": [
    {
     "data": {
      "text/plain": [
       "array([['Africa'],\n",
       "       ['Africa'],\n",
       "       ['Africa'],\n",
       "       ['Africa'],\n",
       "       ['Africa'],\n",
       "       ['Africa']], dtype=object)"
      ]
     },
     "execution_count": 50,
     "metadata": {},
     "output_type": "execute_result"
    }
   ],
   "source": [
    "y_labels[:6]"
   ]
  },
  {
   "cell_type": "code",
   "execution_count": 51,
   "metadata": {},
   "outputs": [
    {
     "data": {
      "text/plain": [
       "((2138, 1), (2138,))"
      ]
     },
     "execution_count": 51,
     "metadata": {},
     "output_type": "execute_result"
    }
   ],
   "source": [
    "y_labels.shape, df['continents'].shape"
   ]
  },
  {
   "cell_type": "code",
   "execution_count": 52,
   "metadata": {},
   "outputs": [
    {
     "name": "stdout",
     "output_type": "stream",
     "text": [
      "[[1. 0. 0. ... 0. 0. 0.]\n",
      " [1. 0. 0. ... 0. 0. 0.]\n",
      " [1. 0. 0. ... 0. 0. 0.]\n",
      " ...\n",
      " [1. 0. 0. ... 0. 0. 0.]\n",
      " [0. 0. 0. ... 0. 0. 0.]\n",
      " [1. 0. 0. ... 0. 0. 0.]]\n"
     ]
    }
   ],
   "source": [
    "from sklearn.preprocessing import OneHotEncoder\n",
    "\n",
    "encoder = OneHotEncoder(sparse_output=False)\n",
    "y_encoded_data = encoder.fit_transform(y_labels)\n",
    "\n",
    "y_encoded_data.shape\n",
    "print(y_encoded_data)"
   ]
  },
  {
   "cell_type": "code",
   "execution_count": 53,
   "metadata": {},
   "outputs": [],
   "source": [
    "from sklearn.model_selection import train_test_split\n",
    "\n",
    "# Split the data into training and testing sets\n",
    "X_train, X_test, y_train, y_test = train_test_split(X_image_features, y_encoded_data, test_size=0.2, random_state=42)"
   ]
  },
  {
   "cell_type": "code",
   "execution_count": 54,
   "metadata": {},
   "outputs": [
    {
     "name": "stdout",
     "output_type": "stream",
     "text": [
      "(1710, 13)\n",
      "(1710, 7)\n",
      "(428, 7)\n",
      "[[-238.3164       96.33856      -1.022958   ...    0.47988304\n",
      "    -2.726094     -1.8248239 ]\n",
      " [-277.73517      71.02951      -8.330166   ...    0.50249904\n",
      "     4.9303823    -4.324473  ]\n",
      " [-351.52145      93.69288     -22.155586   ...  -14.176218\n",
      "   -14.034146     -6.209878  ]\n",
      " ...\n",
      " [-336.74194      97.96549      17.962145   ...   -9.664318\n",
      "   -12.496029    -12.381496  ]\n",
      " [-307.19107      72.507576      6.7151675  ...   -8.166353\n",
      "    -2.5581565    -6.769938  ]\n",
      " [-328.05167      53.9969       -9.145986   ...  -13.535268\n",
      "    -4.8334813   -15.799262  ]]\n",
      "[[0. 0. 1. ... 0. 0. 0.]\n",
      " [0. 1. 0. ... 0. 0. 0.]\n",
      " [0. 0. 1. ... 0. 0. 0.]\n",
      " ...\n",
      " [0. 1. 0. ... 0. 0. 0.]\n",
      " [0. 1. 0. ... 0. 0. 0.]\n",
      " [0. 0. 0. ... 0. 0. 0.]]\n"
     ]
    }
   ],
   "source": [
    "print(X_train.shape)\n",
    "print(y_train.shape)\n",
    "print(y_test.shape)\n",
    "\n",
    "print(X_train)\n",
    "print(y_train)"
   ]
  },
  {
   "cell_type": "code",
   "execution_count": 55,
   "metadata": {},
   "outputs": [
    {
     "data": {
      "text/plain": [
       "array([[0., 0., 1., ..., 0., 0., 0.],\n",
       "       [0., 1., 0., ..., 0., 0., 0.],\n",
       "       [0., 0., 1., ..., 0., 0., 0.],\n",
       "       ...,\n",
       "       [0., 1., 0., ..., 0., 0., 0.],\n",
       "       [0., 1., 0., ..., 0., 0., 0.],\n",
       "       [0., 0., 0., ..., 0., 0., 0.]])"
      ]
     },
     "execution_count": 55,
     "metadata": {},
     "output_type": "execute_result"
    }
   ],
   "source": [
    "y_train"
   ]
  },
  {
   "cell_type": "code",
   "execution_count": 56,
   "metadata": {},
   "outputs": [],
   "source": [
    "\"\"\"#y_train = np.reshape(y_train, -1)\n",
    "y_train = np.array(y_train)\n",
    "y_train.shape\"\"\"\n",
    "\n",
    "y_train_shape = np.argmax(y_train, axis=1)\n"
   ]
  },
  {
   "cell_type": "code",
   "execution_count": 57,
   "metadata": {},
   "outputs": [
    {
     "data": {
      "text/plain": [
       "(1710, 7)"
      ]
     },
     "execution_count": 57,
     "metadata": {},
     "output_type": "execute_result"
    }
   ],
   "source": [
    "y_train.shape"
   ]
  },
  {
   "cell_type": "code",
   "execution_count": 61,
   "metadata": {},
   "outputs": [
    {
     "ename": "ValueError",
     "evalue": "Input 0 of layer \"max_pooling1d_4\" is incompatible with the layer: expected ndim=3, found ndim=4. Full shape received: (None, 1, 1708, 32)",
     "output_type": "error",
     "traceback": [
      "\u001b[1;31m---------------------------------------------------------------------------\u001b[0m",
      "\u001b[1;31mValueError\u001b[0m                                Traceback (most recent call last)",
      "\u001b[1;32md:\\Masters\\CUDenver\\classes\\Fall2023\\Machine Learning\\MS-project\\projectCNN.ipynb Cell 28\u001b[0m line \u001b[0;36m3\n\u001b[0;32m     <a href='vscode-notebook-cell:/d%3A/Masters/CUDenver/classes/Fall2023/Machine%20Learning/MS-project/projectCNN.ipynb#X36sZmlsZQ%3D%3D?line=27'>28</a>\u001b[0m \u001b[39m# CNN layers\u001b[39;00m\n\u001b[0;32m     <a href='vscode-notebook-cell:/d%3A/Masters/CUDenver/classes/Fall2023/Machine%20Learning/MS-project/projectCNN.ipynb#X36sZmlsZQ%3D%3D?line=28'>29</a>\u001b[0m model\u001b[39m.\u001b[39madd(Conv1D(filters\u001b[39m=\u001b[39m\u001b[39m32\u001b[39m, kernel_size\u001b[39m=\u001b[39m\u001b[39m3\u001b[39m, activation\u001b[39m=\u001b[39m\u001b[39m'\u001b[39m\u001b[39mrelu\u001b[39m\u001b[39m'\u001b[39m, input_shape\u001b[39m=\u001b[39m(\u001b[39m1\u001b[39m, n_timesteps, n_features)))\n\u001b[1;32m---> <a href='vscode-notebook-cell:/d%3A/Masters/CUDenver/classes/Fall2023/Machine%20Learning/MS-project/projectCNN.ipynb#X36sZmlsZQ%3D%3D?line=29'>30</a>\u001b[0m model\u001b[39m.\u001b[39;49madd(MaxPooling1D(pool_size\u001b[39m=\u001b[39;49m\u001b[39m2\u001b[39;49m))\n\u001b[0;32m     <a href='vscode-notebook-cell:/d%3A/Masters/CUDenver/classes/Fall2023/Machine%20Learning/MS-project/projectCNN.ipynb#X36sZmlsZQ%3D%3D?line=31'>32</a>\u001b[0m model\u001b[39m.\u001b[39madd(Flatten())   \n\u001b[0;32m     <a href='vscode-notebook-cell:/d%3A/Masters/CUDenver/classes/Fall2023/Machine%20Learning/MS-project/projectCNN.ipynb#X36sZmlsZQ%3D%3D?line=33'>34</a>\u001b[0m \u001b[39m# Fully connected classification layer    \u001b[39;00m\n",
      "File \u001b[1;32m~\\AppData\\Local\\Packages\\PythonSoftwareFoundation.Python.3.11_qbz5n2kfra8p0\\LocalCache\\local-packages\\Python311\\site-packages\\tensorflow\\python\\trackable\\base.py:204\u001b[0m, in \u001b[0;36mno_automatic_dependency_tracking.<locals>._method_wrapper\u001b[1;34m(self, *args, **kwargs)\u001b[0m\n\u001b[0;32m    202\u001b[0m \u001b[39mself\u001b[39m\u001b[39m.\u001b[39m_self_setattr_tracking \u001b[39m=\u001b[39m \u001b[39mFalse\u001b[39;00m  \u001b[39m# pylint: disable=protected-access\u001b[39;00m\n\u001b[0;32m    203\u001b[0m \u001b[39mtry\u001b[39;00m:\n\u001b[1;32m--> 204\u001b[0m   result \u001b[39m=\u001b[39m method(\u001b[39mself\u001b[39;49m, \u001b[39m*\u001b[39;49margs, \u001b[39m*\u001b[39;49m\u001b[39m*\u001b[39;49mkwargs)\n\u001b[0;32m    205\u001b[0m \u001b[39mfinally\u001b[39;00m:\n\u001b[0;32m    206\u001b[0m   \u001b[39mself\u001b[39m\u001b[39m.\u001b[39m_self_setattr_tracking \u001b[39m=\u001b[39m previous_value  \u001b[39m# pylint: disable=protected-access\u001b[39;00m\n",
      "File \u001b[1;32m~\\AppData\\Local\\Packages\\PythonSoftwareFoundation.Python.3.11_qbz5n2kfra8p0\\LocalCache\\local-packages\\Python311\\site-packages\\keras\\src\\utils\\traceback_utils.py:70\u001b[0m, in \u001b[0;36mfilter_traceback.<locals>.error_handler\u001b[1;34m(*args, **kwargs)\u001b[0m\n\u001b[0;32m     67\u001b[0m     filtered_tb \u001b[39m=\u001b[39m _process_traceback_frames(e\u001b[39m.\u001b[39m__traceback__)\n\u001b[0;32m     68\u001b[0m     \u001b[39m# To get the full stack trace, call:\u001b[39;00m\n\u001b[0;32m     69\u001b[0m     \u001b[39m# `tf.debugging.disable_traceback_filtering()`\u001b[39;00m\n\u001b[1;32m---> 70\u001b[0m     \u001b[39mraise\u001b[39;00m e\u001b[39m.\u001b[39mwith_traceback(filtered_tb) \u001b[39mfrom\u001b[39;00m \u001b[39mNone\u001b[39;00m\n\u001b[0;32m     71\u001b[0m \u001b[39mfinally\u001b[39;00m:\n\u001b[0;32m     72\u001b[0m     \u001b[39mdel\u001b[39;00m filtered_tb\n",
      "File \u001b[1;32m~\\AppData\\Local\\Packages\\PythonSoftwareFoundation.Python.3.11_qbz5n2kfra8p0\\LocalCache\\local-packages\\Python311\\site-packages\\keras\\src\\engine\\input_spec.py:235\u001b[0m, in \u001b[0;36massert_input_compatibility\u001b[1;34m(input_spec, inputs, layer_name)\u001b[0m\n\u001b[0;32m    233\u001b[0m     ndim \u001b[39m=\u001b[39m shape\u001b[39m.\u001b[39mrank\n\u001b[0;32m    234\u001b[0m     \u001b[39mif\u001b[39;00m ndim \u001b[39m!=\u001b[39m spec\u001b[39m.\u001b[39mndim:\n\u001b[1;32m--> 235\u001b[0m         \u001b[39mraise\u001b[39;00m \u001b[39mValueError\u001b[39;00m(\n\u001b[0;32m    236\u001b[0m             \u001b[39mf\u001b[39m\u001b[39m'\u001b[39m\u001b[39mInput \u001b[39m\u001b[39m{\u001b[39;00minput_index\u001b[39m}\u001b[39;00m\u001b[39m of layer \u001b[39m\u001b[39m\"\u001b[39m\u001b[39m{\u001b[39;00mlayer_name\u001b[39m}\u001b[39;00m\u001b[39m\"\u001b[39m\u001b[39m \u001b[39m\u001b[39m'\u001b[39m\n\u001b[0;32m    237\u001b[0m             \u001b[39m\"\u001b[39m\u001b[39mis incompatible with the layer: \u001b[39m\u001b[39m\"\u001b[39m\n\u001b[0;32m    238\u001b[0m             \u001b[39mf\u001b[39m\u001b[39m\"\u001b[39m\u001b[39mexpected ndim=\u001b[39m\u001b[39m{\u001b[39;00mspec\u001b[39m.\u001b[39mndim\u001b[39m}\u001b[39;00m\u001b[39m, found ndim=\u001b[39m\u001b[39m{\u001b[39;00mndim\u001b[39m}\u001b[39;00m\u001b[39m. \u001b[39m\u001b[39m\"\u001b[39m\n\u001b[0;32m    239\u001b[0m             \u001b[39mf\u001b[39m\u001b[39m\"\u001b[39m\u001b[39mFull shape received: \u001b[39m\u001b[39m{\u001b[39;00m\u001b[39mtuple\u001b[39m(shape)\u001b[39m}\u001b[39;00m\u001b[39m\"\u001b[39m\n\u001b[0;32m    240\u001b[0m         )\n\u001b[0;32m    241\u001b[0m \u001b[39mif\u001b[39;00m spec\u001b[39m.\u001b[39mmax_ndim \u001b[39mis\u001b[39;00m \u001b[39mnot\u001b[39;00m \u001b[39mNone\u001b[39;00m:\n\u001b[0;32m    242\u001b[0m     ndim \u001b[39m=\u001b[39m x\u001b[39m.\u001b[39mshape\u001b[39m.\u001b[39mrank\n",
      "\u001b[1;31mValueError\u001b[0m: Input 0 of layer \"max_pooling1d_4\" is incompatible with the layer: expected ndim=3, found ndim=4. Full shape received: (None, 1, 1708, 32)"
     ]
    }
   ],
   "source": [
    "# from keras.models import Sequential\n",
    "# from keras.layers import LSTM, Dense  \n",
    "\n",
    "# # n_samples, n_features = X_train.shape\n",
    "# # n_outputs = y_train.shape[-1] # 7\n",
    "\n",
    "# # Reshape input \n",
    "# # X_train_re = np.reshape(X_train, (n_samples, 1, n_features))\n",
    "# X_train_re = np.reshape(X_train, (1710, 1, 13))\n",
    "\n",
    "# model = Sequential()\n",
    "# model.add(LSTM(64, input_shape=(1, 13))) \n",
    "# model.add(Dense(7, activation='softmax'))\n",
    "\n",
    "# model.compile(loss='categorical_crossentropy', optimizer='adam')  \n",
    "\n",
    "from keras.models import Sequential\n",
    "from keras.layers import Dense, Flatten, Conv1D, MaxPooling1D\n",
    "\n",
    "n_timesteps = 1710\n",
    "n_features = 13\n",
    "\n",
    "# Reshape data for CNNs \n",
    "X_train_re = X_train.reshape((-1, n_timesteps, n_features))\n",
    "\n",
    "model = Sequential()\n",
    "\n",
    "# CNN layers\n",
    "model.add(Conv1D(filters=32, kernel_size=3, activation='relu', input_shape=(1, n_timesteps, n_features)))\n",
    "model.add(MaxPooling1D(pool_size=2))\n",
    "    \n",
    "model.add(Flatten())   \n",
    "\n",
    "# Fully connected classification layer    \n",
    "model.add(Dense(7, activation='softmax'))\n",
    "\n",
    "model.compile(loss='categorical_crossentropy', optimizer='adam')"
   ]
  },
  {
   "cell_type": "code",
   "execution_count": 385,
   "metadata": {},
   "outputs": [
    {
     "data": {
      "text/plain": [
       "(1710, 1, 13)"
      ]
     },
     "execution_count": 385,
     "metadata": {},
     "output_type": "execute_result"
    }
   ],
   "source": [
    "X_train_re.shape"
   ]
  },
  {
   "cell_type": "code",
   "execution_count": 386,
   "metadata": {},
   "outputs": [
    {
     "data": {
      "text/plain": [
       "(1710, 7)"
      ]
     },
     "execution_count": 386,
     "metadata": {},
     "output_type": "execute_result"
    }
   ],
   "source": [
    "y_train.shape"
   ]
  },
  {
   "cell_type": "code",
   "execution_count": 387,
   "metadata": {},
   "outputs": [
    {
     "name": "stdout",
     "output_type": "stream",
     "text": [
      "Epoch 1/100\n"
     ]
    },
    {
     "name": "stdout",
     "output_type": "stream",
     "text": [
      "54/54 [==============================] - 2s 2ms/step - loss: 1.7567\n",
      "Epoch 2/100\n",
      "54/54 [==============================] - 0s 2ms/step - loss: 1.7054\n",
      "Epoch 3/100\n",
      "54/54 [==============================] - 0s 2ms/step - loss: 1.6964\n",
      "Epoch 4/100\n",
      "54/54 [==============================] - 0s 2ms/step - loss: 1.6886\n",
      "Epoch 5/100\n",
      "54/54 [==============================] - 0s 2ms/step - loss: 1.6793\n",
      "Epoch 6/100\n",
      "54/54 [==============================] - 0s 2ms/step - loss: 1.6682\n",
      "Epoch 7/100\n",
      "54/54 [==============================] - 0s 2ms/step - loss: 1.6628\n",
      "Epoch 8/100\n",
      "54/54 [==============================] - 0s 2ms/step - loss: 1.6611\n",
      "Epoch 9/100\n",
      "54/54 [==============================] - 0s 2ms/step - loss: 1.6537\n",
      "Epoch 10/100\n",
      "54/54 [==============================] - 0s 2ms/step - loss: 1.6471\n",
      "Epoch 11/100\n",
      "54/54 [==============================] - 0s 2ms/step - loss: 1.6394\n",
      "Epoch 12/100\n",
      "54/54 [==============================] - 0s 2ms/step - loss: 1.6349\n",
      "Epoch 13/100\n",
      "54/54 [==============================] - 0s 2ms/step - loss: 1.6314\n",
      "Epoch 14/100\n",
      "54/54 [==============================] - 0s 2ms/step - loss: 1.6301\n",
      "Epoch 15/100\n",
      "54/54 [==============================] - 0s 2ms/step - loss: 1.6293\n",
      "Epoch 16/100\n",
      "54/54 [==============================] - 0s 2ms/step - loss: 1.6220\n",
      "Epoch 17/100\n",
      "54/54 [==============================] - 0s 2ms/step - loss: 1.6157\n",
      "Epoch 18/100\n",
      "54/54 [==============================] - 0s 2ms/step - loss: 1.6148\n",
      "Epoch 19/100\n",
      "54/54 [==============================] - 0s 2ms/step - loss: 1.6110\n",
      "Epoch 20/100\n",
      "54/54 [==============================] - 0s 2ms/step - loss: 1.6053\n",
      "Epoch 21/100\n",
      "54/54 [==============================] - 0s 2ms/step - loss: 1.6071\n",
      "Epoch 22/100\n",
      "54/54 [==============================] - 0s 2ms/step - loss: 1.5994\n",
      "Epoch 23/100\n",
      "54/54 [==============================] - 0s 2ms/step - loss: 1.5967\n",
      "Epoch 24/100\n",
      "54/54 [==============================] - 0s 2ms/step - loss: 1.5934\n",
      "Epoch 25/100\n",
      "54/54 [==============================] - 0s 2ms/step - loss: 1.5904\n",
      "Epoch 26/100\n",
      "54/54 [==============================] - 0s 2ms/step - loss: 1.5938\n",
      "Epoch 27/100\n",
      "54/54 [==============================] - 0s 2ms/step - loss: 1.5886\n",
      "Epoch 28/100\n",
      "54/54 [==============================] - 0s 2ms/step - loss: 1.5811\n",
      "Epoch 29/100\n",
      "54/54 [==============================] - 0s 2ms/step - loss: 1.5781\n",
      "Epoch 30/100\n",
      "54/54 [==============================] - 0s 2ms/step - loss: 1.5749\n",
      "Epoch 31/100\n",
      "54/54 [==============================] - 0s 2ms/step - loss: 1.5747\n",
      "Epoch 32/100\n",
      "54/54 [==============================] - 0s 3ms/step - loss: 1.5710\n",
      "Epoch 33/100\n",
      "54/54 [==============================] - 0s 2ms/step - loss: 1.5684\n",
      "Epoch 34/100\n",
      "54/54 [==============================] - 0s 2ms/step - loss: 1.5669\n",
      "Epoch 35/100\n",
      "54/54 [==============================] - 0s 2ms/step - loss: 1.5669\n",
      "Epoch 36/100\n",
      "54/54 [==============================] - 0s 2ms/step - loss: 1.5623\n",
      "Epoch 37/100\n",
      "54/54 [==============================] - 0s 2ms/step - loss: 1.5602\n",
      "Epoch 38/100\n",
      "54/54 [==============================] - 0s 2ms/step - loss: 1.5588\n",
      "Epoch 39/100\n",
      "54/54 [==============================] - 0s 2ms/step - loss: 1.5539\n",
      "Epoch 40/100\n",
      "54/54 [==============================] - 0s 2ms/step - loss: 1.5535\n",
      "Epoch 41/100\n",
      "54/54 [==============================] - 0s 2ms/step - loss: 1.5472\n",
      "Epoch 42/100\n",
      "54/54 [==============================] - 0s 2ms/step - loss: 1.5493\n",
      "Epoch 43/100\n",
      "54/54 [==============================] - 0s 2ms/step - loss: 1.5413\n",
      "Epoch 44/100\n",
      "54/54 [==============================] - 0s 2ms/step - loss: 1.5379\n",
      "Epoch 45/100\n",
      "54/54 [==============================] - 0s 2ms/step - loss: 1.5373\n",
      "Epoch 46/100\n",
      "54/54 [==============================] - 0s 2ms/step - loss: 1.5337\n",
      "Epoch 47/100\n",
      "54/54 [==============================] - 0s 2ms/step - loss: 1.5349\n",
      "Epoch 48/100\n",
      "54/54 [==============================] - 0s 2ms/step - loss: 1.5335\n",
      "Epoch 49/100\n",
      "54/54 [==============================] - 0s 2ms/step - loss: 1.5321\n",
      "Epoch 50/100\n",
      "54/54 [==============================] - 0s 2ms/step - loss: 1.5245\n",
      "Epoch 51/100\n",
      "54/54 [==============================] - 0s 2ms/step - loss: 1.5278\n",
      "Epoch 52/100\n",
      "54/54 [==============================] - 0s 2ms/step - loss: 1.5236\n",
      "Epoch 53/100\n",
      "54/54 [==============================] - 0s 2ms/step - loss: 1.5250\n",
      "Epoch 54/100\n",
      "54/54 [==============================] - 0s 2ms/step - loss: 1.5174\n",
      "Epoch 55/100\n",
      "54/54 [==============================] - 0s 2ms/step - loss: 1.5159\n",
      "Epoch 56/100\n",
      "54/54 [==============================] - 0s 2ms/step - loss: 1.5125\n",
      "Epoch 57/100\n",
      "54/54 [==============================] - 0s 2ms/step - loss: 1.5118\n",
      "Epoch 58/100\n",
      "54/54 [==============================] - 0s 2ms/step - loss: 1.5086\n",
      "Epoch 59/100\n",
      "54/54 [==============================] - 0s 2ms/step - loss: 1.5126\n",
      "Epoch 60/100\n",
      "54/54 [==============================] - 0s 2ms/step - loss: 1.5059\n",
      "Epoch 61/100\n",
      "54/54 [==============================] - 0s 2ms/step - loss: 1.4999\n",
      "Epoch 62/100\n",
      "54/54 [==============================] - 0s 2ms/step - loss: 1.4998\n",
      "Epoch 63/100\n",
      "54/54 [==============================] - 0s 2ms/step - loss: 1.5033\n",
      "Epoch 64/100\n",
      "54/54 [==============================] - 0s 2ms/step - loss: 1.4907\n",
      "Epoch 65/100\n",
      "54/54 [==============================] - 0s 2ms/step - loss: 1.4962\n",
      "Epoch 66/100\n",
      "54/54 [==============================] - 0s 2ms/step - loss: 1.4869\n",
      "Epoch 67/100\n",
      "54/54 [==============================] - 0s 2ms/step - loss: 1.4889\n",
      "Epoch 68/100\n",
      "54/54 [==============================] - 0s 2ms/step - loss: 1.4870\n",
      "Epoch 69/100\n",
      "54/54 [==============================] - 0s 2ms/step - loss: 1.4863\n",
      "Epoch 70/100\n",
      "54/54 [==============================] - 0s 2ms/step - loss: 1.4798\n",
      "Epoch 71/100\n",
      "54/54 [==============================] - 0s 2ms/step - loss: 1.4755\n",
      "Epoch 72/100\n",
      "54/54 [==============================] - 0s 2ms/step - loss: 1.4775\n",
      "Epoch 73/100\n",
      "54/54 [==============================] - 0s 2ms/step - loss: 1.4730\n",
      "Epoch 74/100\n",
      "54/54 [==============================] - 0s 2ms/step - loss: 1.4697\n",
      "Epoch 75/100\n",
      "54/54 [==============================] - 0s 2ms/step - loss: 1.4713\n",
      "Epoch 76/100\n",
      "54/54 [==============================] - 0s 2ms/step - loss: 1.4656\n",
      "Epoch 77/100\n",
      "54/54 [==============================] - 0s 2ms/step - loss: 1.4651\n",
      "Epoch 78/100\n",
      "54/54 [==============================] - 0s 2ms/step - loss: 1.4662\n",
      "Epoch 79/100\n",
      "54/54 [==============================] - 0s 2ms/step - loss: 1.4633\n",
      "Epoch 80/100\n",
      "54/54 [==============================] - 0s 2ms/step - loss: 1.4609\n",
      "Epoch 81/100\n",
      "54/54 [==============================] - 0s 2ms/step - loss: 1.4601\n",
      "Epoch 82/100\n",
      "54/54 [==============================] - 0s 2ms/step - loss: 1.4564\n",
      "Epoch 83/100\n",
      "54/54 [==============================] - 0s 2ms/step - loss: 1.4568\n",
      "Epoch 84/100\n",
      "54/54 [==============================] - 0s 2ms/step - loss: 1.4595\n",
      "Epoch 85/100\n",
      "54/54 [==============================] - 0s 2ms/step - loss: 1.4487\n",
      "Epoch 86/100\n",
      "54/54 [==============================] - 0s 2ms/step - loss: 1.4460\n",
      "Epoch 87/100\n",
      "54/54 [==============================] - 0s 2ms/step - loss: 1.4515\n",
      "Epoch 88/100\n",
      "54/54 [==============================] - 0s 2ms/step - loss: 1.4451\n",
      "Epoch 89/100\n",
      "54/54 [==============================] - 0s 2ms/step - loss: 1.4441\n",
      "Epoch 90/100\n",
      "54/54 [==============================] - 0s 2ms/step - loss: 1.4400\n",
      "Epoch 91/100\n",
      "54/54 [==============================] - 0s 2ms/step - loss: 1.4417\n",
      "Epoch 92/100\n",
      "54/54 [==============================] - 0s 2ms/step - loss: 1.4443\n",
      "Epoch 93/100\n",
      "54/54 [==============================] - 0s 2ms/step - loss: 1.4407\n",
      "Epoch 94/100\n",
      "54/54 [==============================] - 0s 2ms/step - loss: 1.4360\n",
      "Epoch 95/100\n",
      "54/54 [==============================] - 0s 2ms/step - loss: 1.4386\n",
      "Epoch 96/100\n",
      "54/54 [==============================] - 0s 2ms/step - loss: 1.4311\n",
      "Epoch 97/100\n",
      "54/54 [==============================] - 0s 2ms/step - loss: 1.4283\n",
      "Epoch 98/100\n",
      "54/54 [==============================] - 0s 2ms/step - loss: 1.4313\n",
      "Epoch 99/100\n",
      "54/54 [==============================] - 0s 2ms/step - loss: 1.4273\n",
      "Epoch 100/100\n",
      "54/54 [==============================] - 0s 2ms/step - loss: 1.4288\n"
     ]
    },
    {
     "data": {
      "text/plain": [
       "<keras.src.callbacks.History at 0x17ca831b450>"
      ]
     },
     "execution_count": 387,
     "metadata": {},
     "output_type": "execute_result"
    }
   ],
   "source": [
    "# Train model \n",
    "# model.fit(X_train_re, y_train, epochs=100) # Train! \n",
    "model.fit(X_train_re, y_train, epochs=100)\n"
   ]
  },
  {
   "cell_type": "code",
   "execution_count": 389,
   "metadata": {},
   "outputs": [
    {
     "data": {
      "text/plain": [
       "(428, 1, 13)"
      ]
     },
     "execution_count": 389,
     "metadata": {},
     "output_type": "execute_result"
    }
   ],
   "source": [
    "# Reshape test data also before prediction\n",
    "X_test = np.reshape(X_test, (-1,1,428, 13))\n",
    "X_test.shape"
   ]
  },
  {
   "cell_type": "code",
   "execution_count": 390,
   "metadata": {},
   "outputs": [
    {
     "name": "stdout",
     "output_type": "stream",
     "text": [
      "14/14 [==============================] - 0s 1ms/step\n"
     ]
    }
   ],
   "source": [
    "from sklearn.metrics import f1_score, recall_score, accuracy_score\n",
    "\n",
    "y_pred = model.predict(X_test)\n",
    "y_test = np.argmax(y_test, axis=1)\n",
    "\n",
    "# Convert prediction probabilities to class labels\n",
    "y_pred = np.argmax(y_pred, axis=1) "
   ]
  },
  {
   "cell_type": "code",
   "execution_count": 391,
   "metadata": {},
   "outputs": [
    {
     "data": {
      "text/plain": [
       "array([1, 3, 2, 2, 0, 2, 1, 5, 1, 3, 6, 2, 2, 2, 2, 3, 1, 1, 3, 2, 5, 2,\n",
       "       4, 1, 2, 5, 1, 3, 3, 1, 0, 3, 2, 1, 0, 3, 1, 3, 5, 2, 3, 3, 6, 1,\n",
       "       0, 2, 1, 2, 0, 1, 6, 1, 3, 1, 3, 2, 1, 1, 3, 2, 2, 6, 1, 1, 1, 0,\n",
       "       3, 0, 6, 1, 1, 1, 1, 3, 3, 0, 3, 2, 5, 1, 1, 2, 0, 2, 1, 0, 0, 2,\n",
       "       2, 3, 0, 5, 2, 2, 3, 1, 4, 3, 2, 1, 0, 6, 2, 0, 2, 2, 3, 2, 2, 5,\n",
       "       3, 2, 3, 3, 6, 2, 5, 1, 1, 2, 0, 6, 6, 1, 1, 3, 1, 2, 1, 1, 2, 2,\n",
       "       3, 6, 2, 1, 2, 1, 3, 1, 2, 1, 3, 0, 3, 1, 2, 3, 2, 3, 3, 3, 3, 6,\n",
       "       3, 3, 2, 2, 1, 1, 4, 3, 3, 3, 2, 3, 3, 2, 3, 2, 5, 1, 3, 1, 3, 3,\n",
       "       0, 3, 6, 2, 1, 6, 2, 3, 1, 1, 3, 5, 6, 3, 1, 5, 3, 2, 3, 1, 4, 3,\n",
       "       0, 0, 1, 0, 6, 1, 5, 2, 1, 3, 3, 1, 6, 5, 3, 3, 6, 5, 3, 6, 1, 3,\n",
       "       6, 0, 1, 1, 0, 2, 3, 3, 6, 1, 2, 2, 1, 1, 0, 1, 1, 2, 3, 6, 3, 2,\n",
       "       5, 3, 2, 1, 1, 2, 2, 2, 3, 3, 2, 2, 2, 1, 3, 3, 2, 1, 1, 1, 6, 3,\n",
       "       4, 2, 6, 1, 2, 6, 2, 0, 5, 2, 1, 3, 1, 3, 1, 2, 3, 5, 3, 1, 2, 3,\n",
       "       3, 1, 4, 2, 6, 2, 1, 1, 6, 3, 3, 1, 3, 1, 1, 1, 2, 1, 2, 3, 2, 5,\n",
       "       1, 0, 1, 2, 1, 3, 3, 1, 3, 2, 0, 0, 5, 3, 5, 2, 6, 3, 0, 5, 2, 1,\n",
       "       2, 1, 1, 2, 2, 1, 1, 3, 1, 6, 1, 2, 2, 3, 1, 1, 3, 1, 2, 3, 5, 3,\n",
       "       0, 3, 3, 2, 0, 1, 5, 3, 5, 2, 4, 2, 1, 1, 2, 5, 0, 1, 3, 3, 2, 1,\n",
       "       3, 0, 0, 3, 2, 3, 1, 2, 5, 1, 0, 1, 0, 3, 1, 5, 3, 6, 2, 3, 2, 1,\n",
       "       3, 2, 5, 2, 3, 2, 2, 1, 3, 3, 3, 0, 0, 1, 1, 0, 1, 0, 3, 0, 3, 2,\n",
       "       5, 1, 0, 2, 3, 1, 1, 0, 2, 2], dtype=int64)"
      ]
     },
     "execution_count": 391,
     "metadata": {},
     "output_type": "execute_result"
    }
   ],
   "source": [
    "y_test"
   ]
  },
  {
   "cell_type": "code",
   "execution_count": 392,
   "metadata": {},
   "outputs": [
    {
     "data": {
      "text/plain": [
       "array([1, 1, 1, 3, 2, 0, 0, 2, 1, 3, 1, 1, 2, 0, 2, 3, 1, 1, 1, 3, 3, 1,\n",
       "       2, 2, 1, 1, 1, 2, 3, 1, 1, 1, 3, 1, 1, 3, 1, 3, 3, 3, 3, 2, 3, 3,\n",
       "       1, 1, 2, 2, 3, 1, 1, 3, 2, 0, 1, 3, 3, 3, 2, 0, 2, 1, 3, 3, 2, 1,\n",
       "       2, 3, 2, 1, 2, 1, 1, 1, 3, 1, 3, 0, 2, 2, 3, 1, 2, 0, 1, 3, 1, 2,\n",
       "       3, 3, 1, 2, 2, 3, 2, 1, 2, 3, 2, 1, 1, 1, 2, 2, 1, 1, 2, 1, 2, 0,\n",
       "       3, 1, 3, 3, 2, 1, 3, 3, 3, 2, 1, 2, 3, 3, 3, 3, 1, 3, 3, 1, 1, 2,\n",
       "       0, 1, 3, 1, 0, 3, 3, 3, 3, 2, 3, 3, 3, 2, 1, 3, 6, 2, 1, 3, 3, 3,\n",
       "       1, 1, 1, 1, 1, 0, 3, 1, 1, 2, 3, 5, 2, 1, 3, 1, 2, 2, 1, 2, 3, 1,\n",
       "       3, 3, 1, 3, 3, 1, 2, 3, 1, 1, 2, 1, 3, 6, 2, 3, 3, 3, 1, 1, 3, 3,\n",
       "       3, 1, 1, 1, 0, 3, 3, 3, 1, 1, 2, 1, 3, 2, 1, 1, 2, 1, 3, 2, 1, 3,\n",
       "       2, 3, 3, 2, 1, 2, 1, 1, 3, 1, 3, 1, 1, 3, 0, 3, 0, 1, 3, 2, 1, 3,\n",
       "       3, 3, 2, 3, 2, 3, 1, 1, 1, 0, 2, 1, 1, 1, 0, 1, 0, 3, 3, 2, 1, 3,\n",
       "       2, 3, 3, 2, 3, 3, 1, 0, 1, 3, 3, 1, 3, 3, 2, 3, 3, 2, 2, 3, 3, 3,\n",
       "       3, 2, 3, 1, 3, 1, 3, 2, 1, 2, 1, 1, 3, 3, 2, 3, 2, 3, 0, 1, 2, 2,\n",
       "       0, 1, 3, 0, 1, 3, 3, 2, 1, 3, 0, 2, 3, 2, 3, 3, 3, 0, 1, 3, 1, 1,\n",
       "       2, 1, 3, 3, 1, 0, 1, 2, 0, 2, 1, 0, 3, 2, 3, 2, 0, 1, 0, 1, 1, 1,\n",
       "       3, 1, 3, 1, 1, 3, 3, 3, 2, 3, 2, 1, 1, 1, 1, 3, 1, 0, 0, 3, 1, 0,\n",
       "       1, 0, 0, 3, 3, 2, 3, 3, 3, 1, 1, 3, 1, 3, 1, 2, 3, 2, 3, 3, 0, 1,\n",
       "       0, 1, 1, 2, 3, 2, 3, 1, 3, 3, 1, 1, 1, 1, 0, 3, 1, 0, 3, 0, 2, 3,\n",
       "       3, 3, 1, 3, 2, 2, 3, 1, 1, 3], dtype=int64)"
      ]
     },
     "execution_count": 392,
     "metadata": {},
     "output_type": "execute_result"
    }
   ],
   "source": [
    "# y_test = np.argmax(y_test, axis=1)\n",
    "y_pred"
   ]
  },
  {
   "cell_type": "code",
   "execution_count": 393,
   "metadata": {},
   "outputs": [
    {
     "name": "stdout",
     "output_type": "stream",
     "text": [
      "Test Accuracy: 28.04%\n",
      "F1 Score: 0.28\n",
      "Recall: 0.28\n"
     ]
    }
   ],
   "source": [
    "from sklearn.metrics import f1_score, recall_score, accuracy_score\n",
    "\n",
    "accuracy = accuracy_score(y_pred, y_test) \n",
    "print(\"Test Accuracy: %.2f%%\" %(accuracy*100.0))\n",
    "\n",
    "f1 = f1_score(y_test, y_pred, average='micro')  \n",
    "print(\"F1 Score: %.2f\" % f1)\n",
    "\n",
    "recall = recall_score(y_test, y_pred, average='micro')\n",
    "print(\"Recall: %.2f\" % recall)"
   ]
  },
  {
   "cell_type": "code",
   "execution_count": null,
   "metadata": {},
   "outputs": [],
   "source": []
  }
 ],
 "metadata": {
  "kernelspec": {
   "display_name": "Python 3",
   "language": "python",
   "name": "python3"
  },
  "language_info": {
   "codemirror_mode": {
    "name": "ipython",
    "version": 3
   },
   "file_extension": ".py",
   "mimetype": "text/x-python",
   "name": "python",
   "nbconvert_exporter": "python",
   "pygments_lexer": "ipython3",
   "version": "3.11.6"
  }
 },
 "nbformat": 4,
 "nbformat_minor": 2
}
