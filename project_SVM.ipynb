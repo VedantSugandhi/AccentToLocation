{
 "cells": [
  {
   "cell_type": "code",
   "execution_count": 72,
   "metadata": {},
   "outputs": [
    {
     "name": "stdout",
     "output_type": "stream",
     "text": [
      "country\n",
      "usa         393\n",
      "china        88\n",
      "uk           67\n",
      "india        59\n",
      "canada       54\n",
      "           ... \n",
      "namibia       1\n",
      "romanian      1\n",
      "burundi       1\n",
      "rwanda        1\n",
      "benin         1\n",
      "Name: count, Length: 176, dtype: int64\n"
     ]
    }
   ],
   "source": [
    "import pandas as pd\n",
    "\n",
    "df = pd.read_csv('Dataset/speakers_all.csv',delimiter=',')\n",
    "unique_countries = df['country'].nunique()\n",
    "country_counts = df['country'].value_counts()\n",
    "\n",
    "print(country_counts)"
   ]
  },
  {
   "cell_type": "code",
   "execution_count": 73,
   "metadata": {},
   "outputs": [
    {
     "data": {
      "text/html": [
       "<div>\n",
       "<style scoped>\n",
       "    .dataframe tbody tr th:only-of-type {\n",
       "        vertical-align: middle;\n",
       "    }\n",
       "\n",
       "    .dataframe tbody tr th {\n",
       "        vertical-align: top;\n",
       "    }\n",
       "\n",
       "    .dataframe thead th {\n",
       "        text-align: right;\n",
       "    }\n",
       "</style>\n",
       "<table border=\"1\" class=\"dataframe\">\n",
       "  <thead>\n",
       "    <tr style=\"text-align: right;\">\n",
       "      <th></th>\n",
       "      <th>age</th>\n",
       "      <th>age_onset</th>\n",
       "      <th>birthplace</th>\n",
       "      <th>filename</th>\n",
       "      <th>native_language</th>\n",
       "      <th>sex</th>\n",
       "      <th>speakerid</th>\n",
       "      <th>country</th>\n",
       "      <th>file_missing?</th>\n",
       "      <th>Unnamed: 9</th>\n",
       "      <th>Unnamed: 10</th>\n",
       "      <th>Unnamed: 11</th>\n",
       "    </tr>\n",
       "  </thead>\n",
       "  <tbody>\n",
       "    <tr>\n",
       "      <th>0</th>\n",
       "      <td>24.0</td>\n",
       "      <td>12.0</td>\n",
       "      <td>koussi, senegal</td>\n",
       "      <td>balanta</td>\n",
       "      <td>balanta</td>\n",
       "      <td>male</td>\n",
       "      <td>788</td>\n",
       "      <td>senegal</td>\n",
       "      <td>True</td>\n",
       "      <td>NaN</td>\n",
       "      <td>NaN</td>\n",
       "      <td>NaN</td>\n",
       "    </tr>\n",
       "    <tr>\n",
       "      <th>1</th>\n",
       "      <td>18.0</td>\n",
       "      <td>10.0</td>\n",
       "      <td>buea, cameroon</td>\n",
       "      <td>cameroon</td>\n",
       "      <td>cameroon</td>\n",
       "      <td>male</td>\n",
       "      <td>1953</td>\n",
       "      <td>cameroon</td>\n",
       "      <td>True</td>\n",
       "      <td>NaN</td>\n",
       "      <td>NaN</td>\n",
       "      <td>NaN</td>\n",
       "    </tr>\n",
       "    <tr>\n",
       "      <th>2</th>\n",
       "      <td>48.0</td>\n",
       "      <td>8.0</td>\n",
       "      <td>hong, adamawa, nigeria</td>\n",
       "      <td>fulfulde</td>\n",
       "      <td>fulfulde</td>\n",
       "      <td>male</td>\n",
       "      <td>1037</td>\n",
       "      <td>nigeria</td>\n",
       "      <td>True</td>\n",
       "      <td>NaN</td>\n",
       "      <td>NaN</td>\n",
       "      <td>NaN</td>\n",
       "    </tr>\n",
       "    <tr>\n",
       "      <th>3</th>\n",
       "      <td>42.0</td>\n",
       "      <td>42.0</td>\n",
       "      <td>port-au-prince, haiti</td>\n",
       "      <td>haitian</td>\n",
       "      <td>haitian</td>\n",
       "      <td>male</td>\n",
       "      <td>1165</td>\n",
       "      <td>haiti</td>\n",
       "      <td>True</td>\n",
       "      <td>NaN</td>\n",
       "      <td>NaN</td>\n",
       "      <td>NaN</td>\n",
       "    </tr>\n",
       "    <tr>\n",
       "      <th>4</th>\n",
       "      <td>40.0</td>\n",
       "      <td>35.0</td>\n",
       "      <td>port-au-prince, haiti</td>\n",
       "      <td>haitian</td>\n",
       "      <td>haitian</td>\n",
       "      <td>male</td>\n",
       "      <td>1166</td>\n",
       "      <td>haiti</td>\n",
       "      <td>True</td>\n",
       "      <td>NaN</td>\n",
       "      <td>NaN</td>\n",
       "      <td>NaN</td>\n",
       "    </tr>\n",
       "  </tbody>\n",
       "</table>\n",
       "</div>"
      ],
      "text/plain": [
       "    age  age_onset              birthplace  filename native_language   sex  \\\n",
       "0  24.0       12.0         koussi, senegal   balanta         balanta  male   \n",
       "1  18.0       10.0          buea, cameroon  cameroon        cameroon  male   \n",
       "2  48.0        8.0  hong, adamawa, nigeria  fulfulde        fulfulde  male   \n",
       "3  42.0       42.0   port-au-prince, haiti   haitian         haitian  male   \n",
       "4  40.0       35.0   port-au-prince, haiti   haitian         haitian  male   \n",
       "\n",
       "   speakerid   country  file_missing?  Unnamed: 9  Unnamed: 10 Unnamed: 11  \n",
       "0        788   senegal           True         NaN          NaN         NaN  \n",
       "1       1953  cameroon           True         NaN          NaN         NaN  \n",
       "2       1037   nigeria           True         NaN          NaN         NaN  \n",
       "3       1165     haiti           True         NaN          NaN         NaN  \n",
       "4       1166     haiti           True         NaN          NaN         NaN  "
      ]
     },
     "execution_count": 73,
     "metadata": {},
     "output_type": "execute_result"
    }
   ],
   "source": [
    "df.head()"
   ]
  },
  {
   "cell_type": "code",
   "execution_count": 74,
   "metadata": {},
   "outputs": [],
   "source": [
    "countries_to_continents = {\n",
    "    \"afghanistan\": \"Asia\",\n",
    "    \"armenia\": \"Asia\",\n",
    "    \"azerbaijan\": \"Asia\",\n",
    "    \"bahrain\": \"Asia\",\n",
    "    \"bangladesh\": \"Asia\",\n",
    "    \"bhutan\": \"Asia\",\n",
    "    \"brunei\": \"Asia\",\n",
    "    \"cambodia\": \"Asia\",\n",
    "    \"china\": \"Asia\",\n",
    "    \"cyprus\": \"Asia\",\n",
    "    \"east timor\": \"Asia\",\n",
    "    \"egypt\": \"Asia\",\n",
    "    \"georgia\": \"Asia\",\n",
    "    \"india\": \"Asia\",\n",
    "    \"indonesia\": \"Asia\",\n",
    "    \"iran\": \"Asia\",\n",
    "    \"iraq\": \"Asia\",\n",
    "    \"israel\": \"Asia\",\n",
    "    \"japan\": \"Asia\",\n",
    "    \"jordan\": \"Asia\",\n",
    "    \"kazakhstan\": \"Asia\",\n",
    "    \"kuwait\": \"Asia\",\n",
    "    \"kyrgyzstan\": \"Asia\",\n",
    "    \"laos\": \"Asia\",\n",
    "    \"lebanon\": \"Asia\",\n",
    "    \"malaysia\": \"Asia\",\n",
    "    \"maldives\": \"Asia\",\n",
    "    \"mongolia\": \"Asia\",\n",
    "    \"myanmar\": \"Asia\",\n",
    "    \"nepal\": \"Asia\",\n",
    "    \"north korea\": \"Asia\",\n",
    "    \"oman\": \"Asia\",\n",
    "    \"pakistan\": \"Asia\",\n",
    "    \"palestine\": \"Asia\",\n",
    "    \"philippines\": \"Asia\",\n",
    "    \"qatar\": \"Asia\",\n",
    "    \"russia\": \"Asia\",\n",
    "    \"saudi arabia\": \"Asia\",\n",
    "    \"singapore\": \"Asia\",\n",
    "    \"south korea\": \"Asia\",\n",
    "    \"sri lanka\": \"Asia\",\n",
    "    \"syria\": \"Asia\",\n",
    "    \"taiwan\": \"Asia\",\n",
    "    \"tajikistan\": \"Asia\",\n",
    "    \"thailand\": \"Asia\",\n",
    "    \"turkey\": \"Asia\",\n",
    "    \"turkmenistan\": \"Asia\",\n",
    "    \"united arab emirates\": \"Asia\",\n",
    "    \"uzbekistan\": \"Asia\",\n",
    "    \"vietnam\": \"Asia\",\n",
    "    \"yemen\": \"Asia\",\n",
    "    \"albania\": \"Europe\",\n",
    "    \"andorra\": \"Europe\",\n",
    "    \"austria\": \"Europe\",\n",
    "    \"belarus\": \"Europe\",\n",
    "    \"belgium\": \"Europe\",\n",
    "    \"bosnia and herzegovina\": \"Europe\",\n",
    "    \"bulgaria\": \"Europe\",\n",
    "    \"croatia\": \"Europe\",\n",
    "    \"cyprus\": \"Europe\",\n",
    "    \"czech republic\": \"Europe\",\n",
    "    \"denmark\": \"Europe\",\n",
    "    \"estonia\": \"Europe\",\n",
    "    \"finland\": \"Europe\",\n",
    "    \"france\": \"Europe\",\n",
    "    \"germany\": \"Europe\",\n",
    "    \"greece\": \"Europe\",\n",
    "    \"hungary\": \"Europe\",\n",
    "    \"iceland\": \"Europe\",\n",
    "    \"ireland\": \"Europe\",\n",
    "    \"italy\": \"Europe\",\n",
    "    \"kosovo\": \"Europe\",\n",
    "    \"latvia\": \"Europe\",\n",
    "    \"liechtenstein\": \"Europe\",\n",
    "    \"lithuania\": \"Europe\",\n",
    "    \"luxembourg\": \"Europe\",\n",
    "    \"north macedonia\": \"Europe\",\n",
    "    \"malta\": \"Europe\",\n",
    "    \"moldova\": \"Europe\",\n",
    "    \"monaco\": \"Europe\",\n",
    "    \"montenegro\": \"Europe\",\n",
    "    \"netherlands\": \"Europe\",\n",
    "    \"norway\": \"Europe\",\n",
    "    \"poland\": \"Europe\",\n",
    "    \"portugal\": \"Europe\",\n",
    "    \"romania\": \"Europe\",\n",
    "    \"russia\": \"Europe\",\n",
    "    \"san marino\": \"Europe\",\n",
    "    \"serbia\": \"Europe\",\n",
    "    \"slovakia\": \"Europe\",\n",
    "    \"slovenia\": \"Europe\",\n",
    "    \"spain\": \"Europe\",\n",
    "    \"sweden\": \"Europe\",\n",
    "    \"switzerland\": \"Europe\",\n",
    "    \"turkey\": \"Europe\",\n",
    "    \"ukraine\": \"Europe\",\n",
    "    \"united kingdom\": \"Europe\",\n",
    "    \"argentina\": \"South America\",\n",
    "    \"bolivia\": \"South America\",\n",
    "    \"brazil\": \"South America\",\n",
    "    \"chile\": \"South America\",\n",
    "    \"colombia\": \"South America\",\n",
    "    \"ecuador\": \"South America\",\n",
    "    \"guyana\": \"South America\",\n",
    "    \"paraguay\": \"South America\",\n",
    "    \"peru\": \"South America\",\n",
    "    \"suriname\": \"South America\",\n",
    "    \"uruguay\": \"South America\",\n",
    "    \"venezuela\": \"South America\",\n",
    "    \"canada\": \"North America\",\n",
    "    \"usa\": \"North America\",\n",
    "    \"mexico\": \"North America\",\n",
    "    \"belize\": \"North America\",\n",
    "    \"costa rica\": \"North America\",\n",
    "    \"el salvador\": \"North America\",\n",
    "    \"guatemala\": \"North America\",\n",
    "    \"honduras\": \"North America\",\n",
    "    \"nicaragua\": \"North America\",\n",
    "    \"panama\": \"North America\",\n",
    "    \"antigua and barbuda\": \"North America\",\n",
    "    \"bahamas\": \"North America\",\n",
    "    \"barbados\": \"North America\",\n",
    "    \"cuba\": \"North America\",\n",
    "    \"dominica\": \"North America\",\n",
    "    \"dominican republic\": \"North America\",\n",
    "    \"grenada\": \"North America\",\n",
    "    \"haiti\": \"North America\",\n",
    "    \"jamaica\": \"North America\",\n",
    "    \"saint kitts and nevis\": \"North America\",\n",
    "    \"saint lucia\": \"North America\",\n",
    "    \"saint vincent and the grenadines\": \"North America\",\n",
    "    \"trinidad and tobago\": \"North America\",\n",
    "    \"algeria\": \"Africa\",\n",
    "    \"angola\": \"Africa\",\n",
    "    \"benin\": \"Africa\",\n",
    "    \"botswana\": \"Africa\",\n",
    "    \"burkina Faso\": \"Africa\",\n",
    "    \"burundi\": \"Africa\",\n",
    "    \"cabo verde\": \"Africa\",\n",
    "    \"cameroon\": \"Africa\",\n",
    "    \"central african republic\": \"Africa\",\n",
    "    \"chad\": \"Africa\",\n",
    "    \"comoros\": \"Africa\",\n",
    "    \"democratic republic of the congo\": \"Africa\",\n",
    "    \"republic of the congo\": \"Africa\",\n",
    "    \"côte d'Ivoire\": \"Africa\",\n",
    "    \"djibouti\": \"Africa\",\n",
    "    \"egypt\": \"Africa\",\n",
    "    \"equatorial guinea\": \"Africa\",\n",
    "    \"eritrea\": \"Africa\",\n",
    "    \"eswatini\": \"Africa\",\n",
    "    \"ethiopia\": \"Africa\",\n",
    "    \"gabon\": \"Africa\",\n",
    "    \"gambia\": \"Africa\",\n",
    "    \"ghana\": \"Africa\",\n",
    "    \"guinea\": \"Africa\",\n",
    "    \"guinea-bissau\": \"Africa\",\n",
    "    \"ivory coast\":\"Africa\",\n",
    "    \"kenya\": \"Africa\",\n",
    "    \"lesotho\": \"Africa\",\n",
    "    \"liberia\": \"Africa\",\n",
    "    \"libya\": \"Africa\",\n",
    "    \"madagascar\": \"Africa\",\n",
    "    \"malawi\": \"Africa\",\n",
    "    \"mali\": \"Africa\",\n",
    "    \"mauritania\": \"Africa\",\n",
    "    \"mauritius\": \"Africa\",\n",
    "    \"morocco\": \"Africa\",\n",
    "    \"mozambique\": \"Africa\",\n",
    "    \"namibia\": \"Africa\",\n",
    "    \"niger\": \"Africa\",\n",
    "    \"nigeria\": \"Africa\",\n",
    "    \"rwanda\": \"Africa\",\n",
    "    \"são tomé and príncipe\": \"Africa\",\n",
    "    \"senegal\": \"Africa\",\n",
    "    \"seychelles\": \"Africa\",\n",
    "    \"sierra leone\": \"Africa\",\n",
    "    \"somalia\": \"Africa\",\n",
    "    \"south africa\": \"Africa\",\n",
    "    \"south sudan\": \"Africa\",\n",
    "    \"sudan\": \"Africa\",\n",
    "    \"tanzania\": \"Africa\",\n",
    "    \"togo\": \"Africa\",\n",
    "    \"tunisia\": \"Africa\",\n",
    "    \"uganda\": \"Africa\",\n",
    "    \"zambia\": \"Africa\",\n",
    "    \"zimbabwe\": \"Africa\",\n",
    "    \"antarctica\": \"Antarctica\",\n",
    "    \"australia\": \"Oceania\",\n",
    "    \"fiji\": \"Oceania\",\n",
    "    \"kiribati\": \"Oceania\",\n",
    "    \"marshall islands\": \"Oceania\",\n",
    "    \"micronesia, federated states of\": \"Oceania\",\n",
    "    \"nauru\": \"Oceania\",\n",
    "    \"new zealand\": \"Oceania\",\n",
    "    \"palau\": \"Oceania\",\n",
    "    \"papua new guinea\": \"Oceania\",\n",
    "    \"samoa\": \"Oceania\",\n",
    "    \"solomon islands\": \"Oceania\",\n",
    "    \"tonga\": \"Oceania\",\n",
    "    \"tuvalu\": \"Oceania\",\n",
    "    \"vanuatu\": \"Oceania\"\n",
    "}"
   ]
  },
  {
   "cell_type": "code",
   "execution_count": 75,
   "metadata": {},
   "outputs": [
    {
     "name": "stdout",
     "output_type": "stream",
     "text": [
      "0     senegal\n",
      "1    cameroon\n",
      "2     nigeria\n",
      "3       haiti\n",
      "4       haiti\n",
      "Name: country, dtype: object\n",
      "198\n"
     ]
    }
   ],
   "source": [
    "print(df['country'].head())\n",
    "print(len(countries_to_continents))"
   ]
  },
  {
   "cell_type": "code",
   "execution_count": 76,
   "metadata": {},
   "outputs": [
    {
     "data": {
      "text/plain": [
       "0        True\n",
       "1        True\n",
       "2        True\n",
       "3        True\n",
       "4        True\n",
       "        ...  \n",
       "2165    False\n",
       "2166    False\n",
       "2167    False\n",
       "2168    False\n",
       "2169    False\n",
       "Name: file_missing?, Length: 2170, dtype: bool"
      ]
     },
     "execution_count": 76,
     "metadata": {},
     "output_type": "execute_result"
    }
   ],
   "source": [
    "#type(df['file_missing?'])\n",
    "df['file_missing?']"
   ]
  },
  {
   "cell_type": "code",
   "execution_count": 77,
   "metadata": {},
   "outputs": [
    {
     "data": {
      "text/plain": [
       "(2170, 12)"
      ]
     },
     "execution_count": 77,
     "metadata": {},
     "output_type": "execute_result"
    }
   ],
   "source": [
    "df.shape"
   ]
  },
  {
   "cell_type": "code",
   "execution_count": 78,
   "metadata": {},
   "outputs": [],
   "source": [
    "df.drop(df[df['file_missing?'] == True].index, inplace=True)\n"
   ]
  },
  {
   "cell_type": "code",
   "execution_count": 79,
   "metadata": {},
   "outputs": [
    {
     "data": {
      "text/plain": [
       "(2138, 12)"
      ]
     },
     "execution_count": 79,
     "metadata": {},
     "output_type": "execute_result"
    }
   ],
   "source": [
    "df.head()\n",
    "df.shape"
   ]
  },
  {
   "cell_type": "code",
   "execution_count": 80,
   "metadata": {},
   "outputs": [],
   "source": [
    "X = df['filename']"
   ]
  },
  {
   "cell_type": "code",
   "execution_count": 81,
   "metadata": {},
   "outputs": [],
   "source": [
    "# filtered_dict = {country: countries_to_continents[country] for country in y_labels if country in countries_to_continents}\n",
    "# continents_list = [countries_to_continents.get(country, 'Other') for country in countries_to_continents]\n",
    "# yc_labels = list(filtered_dict.values())\n",
    "# df = pd.DataFrame({\"country\": [\"cameroon\", \"senegal\"]})\n",
    "df[\"continents\"] = df[\"country\"].map(countries_to_continents)\n",
    "y_labels = df['continents']"
   ]
  },
  {
   "cell_type": "code",
   "execution_count": 82,
   "metadata": {},
   "outputs": [
    {
     "data": {
      "text/plain": [
       "pandas.core.series.Series"
      ]
     },
     "execution_count": 82,
     "metadata": {},
     "output_type": "execute_result"
    }
   ],
   "source": [
    "type(df['continents'])"
   ]
  },
  {
   "cell_type": "code",
   "execution_count": 83,
   "metadata": {},
   "outputs": [
    {
     "name": "stdout",
     "output_type": "stream",
     "text": [
      "continents\n",
      "Asia             566\n",
      "North America    530\n",
      "Europe           505\n",
      "Africa           217\n",
      "South America    125\n",
      "Oceania           50\n",
      "Name: count, dtype: int64\n"
     ]
    }
   ],
   "source": [
    "# Assuming 'df' is your DataFrame and 'continents' is the column name\n",
    "continent_counts = df['continents'].value_counts()\n",
    "\n",
    "# Display the count of unique values in the 'continents' column\n",
    "print(continent_counts)\n"
   ]
  },
  {
   "cell_type": "code",
   "execution_count": 84,
   "metadata": {},
   "outputs": [
    {
     "name": "stdout",
     "output_type": "stream",
     "text": [
      "(2138,)\n",
      "(2138,)\n"
     ]
    },
    {
     "data": {
      "text/plain": [
       "32             Africa\n",
       "33             Africa\n",
       "34             Africa\n",
       "35             Africa\n",
       "36             Africa\n",
       "            ...      \n",
       "2165           Africa\n",
       "2166           Africa\n",
       "2167           Africa\n",
       "2168    North America\n",
       "2169           Africa\n",
       "Name: continents, Length: 2138, dtype: object"
      ]
     },
     "execution_count": 84,
     "metadata": {},
     "output_type": "execute_result"
    }
   ],
   "source": [
    "print(X.shape)\n",
    "print(y_labels.shape)\n",
    "y_labels"
   ]
  },
  {
   "cell_type": "code",
   "execution_count": 85,
   "metadata": {},
   "outputs": [],
   "source": [
    "# from sklearn.model_selection import train_test_split\n",
    "\n",
    "# df = df.sample(frac=1, random_state=42)  # 'frac=1' shuffles the entire dataset\n",
    "\n",
    "# # Perform an 80/20 split for training and test\n",
    "# X_train, X_test, y_train, y_test = train_test_split(X, y, test_size=0.2, random_state=42)"
   ]
  },
  {
   "cell_type": "code",
   "execution_count": 86,
   "metadata": {},
   "outputs": [],
   "source": [
    "import pandas as pd\n",
    "\n",
    "base_path = 'Dataset/recordings/'\n",
    "\n",
    "X = base_path + X + '.mp3'\n",
    "# X_test = base_path + X_test + '.mp3'\n",
    "\n",
    "X_image_paths = X.tolist()\n",
    "# X_test_image_paths = X_test.tolist()\n"
   ]
  },
  {
   "cell_type": "code",
   "execution_count": 87,
   "metadata": {},
   "outputs": [
    {
     "name": "stdout",
     "output_type": "stream",
     "text": [
      "['Dataset/recordings/afrikaans1.mp3', 'Dataset/recordings/afrikaans2.mp3', 'Dataset/recordings/afrikaans3.mp3', 'Dataset/recordings/afrikaans4.mp3', 'Dataset/recordings/afrikaans5.mp3']\n"
     ]
    }
   ],
   "source": [
    "print(X_image_paths[:5])\n",
    "# print(X_test_image_paths[:5])"
   ]
  },
  {
   "cell_type": "code",
   "execution_count": 88,
   "metadata": {},
   "outputs": [],
   "source": [
    "import librosa\n",
    "import numpy as np\n",
    "\n",
    "# Function to extract features from audio file\n",
    "def extract_features(file_path):\n",
    "    try:\n",
    "        # Load audio file\n",
    "        y, sr = librosa.load(file_path)\n",
    "        \n",
    "        # Extract MFCCs (Mel-frequency cepstral coefficients)\n",
    "        mfccs = librosa.feature.mfcc(y=y, sr=sr, n_mfcc=13)\n",
    "        mfccs_mean = np.mean(mfccs, axis=1)\n",
    "        \n",
    "        return mfccs_mean  # Return the extracted features (MFCCs mean)\n",
    "    except Exception as e:\n",
    "        print(f\"Error processing {file_path}: {e}\")\n",
    "        return None\n",
    "\n",
    "# Extract features for each audio file in X_train_image_paths\n",
    "extracted_features = []\n",
    "for file_path in X_image_paths:\n",
    "    features = extract_features(file_path)\n",
    "    if features is not None:\n",
    "        extracted_features.append(features)\n",
    "\n",
    "# Convert the list of features to a NumPy array\n",
    "X_image_features = np.array(extracted_features)"
   ]
  },
  {
   "cell_type": "code",
   "execution_count": 89,
   "metadata": {},
   "outputs": [
    {
     "name": "stdout",
     "output_type": "stream",
     "text": [
      "[[-2.80801056e+02  9.92121658e+01  1.62540607e+01 ... -5.14061308e+00\n",
      "  -2.73235774e+00 -1.15841284e+01]\n",
      " [-2.47785660e+02  9.27956161e+01  7.03312778e+00 ... -1.42139807e+01\n",
      "  -1.34980392e+00 -6.84289598e+00]\n",
      " [-2.97333496e+02  1.09309593e+02  4.86944342e+00 ... -2.04761243e+00\n",
      "  -6.17281675e+00 -9.02794838e+00]\n",
      " ...\n",
      " [-3.78120209e+02  1.26679924e+02  1.61770077e+01 ... -2.81823087e+00\n",
      "  -9.12053776e+00 -6.03319788e+00]\n",
      " [-3.08208038e+02  1.27284134e+02 -2.40374565e+01 ... -8.25175571e+00\n",
      "  -8.97601318e+00  3.13905805e-01]\n",
      " [-2.54454681e+02  8.36123657e+01 -7.57016230e+00 ... -8.22624207e+00\n",
      "  -8.20982742e+00 -4.99016237e+00]]\n"
     ]
    }
   ],
   "source": [
    "print(X_image_features)"
   ]
  },
  {
   "cell_type": "code",
   "execution_count": 90,
   "metadata": {},
   "outputs": [
    {
     "data": {
      "text/plain": [
       "(2138,)"
      ]
     },
     "execution_count": 90,
     "metadata": {},
     "output_type": "execute_result"
    }
   ],
   "source": [
    "y_labels.shape"
   ]
  },
  {
   "cell_type": "code",
   "execution_count": 91,
   "metadata": {},
   "outputs": [
    {
     "name": "stdout",
     "output_type": "stream",
     "text": [
      "<class 'pandas.core.series.Series'>\n"
     ]
    }
   ],
   "source": [
    "print(type(y_labels))\n",
    "y_labels_array = y_labels.values  # Convert Series to a NumPy array\n",
    "y_labels = np.reshape(y_labels_array, (y_labels.shape[0], -1))"
   ]
  },
  {
   "cell_type": "code",
   "execution_count": 92,
   "metadata": {},
   "outputs": [
    {
     "data": {
      "text/plain": [
       "array([['Africa'],\n",
       "       ['Africa'],\n",
       "       ['Africa'],\n",
       "       ['Africa'],\n",
       "       ['Africa'],\n",
       "       ['Africa']], dtype=object)"
      ]
     },
     "execution_count": 92,
     "metadata": {},
     "output_type": "execute_result"
    }
   ],
   "source": [
    "y_labels[:6]"
   ]
  },
  {
   "cell_type": "code",
   "execution_count": 93,
   "metadata": {},
   "outputs": [
    {
     "data": {
      "text/plain": [
       "((2138, 1), (2138,))"
      ]
     },
     "execution_count": 93,
     "metadata": {},
     "output_type": "execute_result"
    }
   ],
   "source": [
    "y_labels.shape, df['continents'].shape"
   ]
  },
  {
   "cell_type": "code",
   "execution_count": 94,
   "metadata": {},
   "outputs": [
    {
     "name": "stdout",
     "output_type": "stream",
     "text": [
      "[[1. 0. 0. ... 0. 0. 0.]\n",
      " [1. 0. 0. ... 0. 0. 0.]\n",
      " [1. 0. 0. ... 0. 0. 0.]\n",
      " ...\n",
      " [1. 0. 0. ... 0. 0. 0.]\n",
      " [0. 0. 0. ... 0. 0. 0.]\n",
      " [1. 0. 0. ... 0. 0. 0.]]\n"
     ]
    }
   ],
   "source": [
    "from sklearn.preprocessing import OneHotEncoder\n",
    "\n",
    "encoder = OneHotEncoder(sparse_output=False)\n",
    "y_encoded_data = encoder.fit_transform(y_labels)\n",
    "\n",
    "y_encoded_data.shape\n",
    "print(y_encoded_data)"
   ]
  },
  {
   "cell_type": "code",
   "execution_count": 95,
   "metadata": {},
   "outputs": [],
   "source": [
    "from sklearn.model_selection import train_test_split\n",
    "\n",
    "# Split the data into training and testing sets\n",
    "X_train, X_test, y_train, y_test = train_test_split(X_image_features, y_encoded_data, test_size=0.2, random_state=42)"
   ]
  },
  {
   "cell_type": "code",
   "execution_count": 96,
   "metadata": {},
   "outputs": [
    {
     "name": "stdout",
     "output_type": "stream",
     "text": [
      "(1710, 13)\n",
      "(1710, 7)\n",
      "[[0. 0. 1. ... 0. 0. 0.]\n",
      " [0. 1. 0. ... 0. 0. 0.]\n",
      " [0. 0. 1. ... 0. 0. 0.]\n",
      " ...\n",
      " [0. 1. 0. ... 0. 0. 0.]\n",
      " [0. 1. 0. ... 0. 0. 0.]\n",
      " [0. 0. 0. ... 0. 0. 0.]]\n"
     ]
    }
   ],
   "source": [
    "print(X_train.shape)\n",
    "print(y_train.shape)\n",
    "\n",
    "print(y_train)"
   ]
  },
  {
   "cell_type": "code",
   "execution_count": 97,
   "metadata": {},
   "outputs": [],
   "source": [
    "\"\"\"#y_train = np.reshape(y_train, -1)\n",
    "y_train = np.array(y_train)\n",
    "y_train.shape\"\"\"\n",
    "\n",
    "y_train = np.argmax(y_train, axis=1)\n"
   ]
  },
  {
   "cell_type": "code",
   "execution_count": 98,
   "metadata": {},
   "outputs": [
    {
     "data": {
      "text/plain": [
       "(1710,)"
      ]
     },
     "execution_count": 98,
     "metadata": {},
     "output_type": "execute_result"
    }
   ],
   "source": [
    "y_train.shape"
   ]
  },
  {
   "cell_type": "code",
   "execution_count": 99,
   "metadata": {},
   "outputs": [
    {
     "data": {
      "text/plain": [
       "\"# Example of replacing NaN values with mean (for demonstration purposes)\\nfrom sklearn.impute import SimpleImputer\\n\\nimputer = SimpleImputer(strategy='mean')\\nX_train_imputed = imputer.fit_transform(X_train)\\n# y_train_imputed = imputer.fit_transform(y_train)\\n\\nprint(X_train.shape)\\nprint(X_train)\\n\""
      ]
     },
     "execution_count": 99,
     "metadata": {},
     "output_type": "execute_result"
    }
   ],
   "source": [
    "\"\"\"# Example of replacing NaN values with mean (for demonstration purposes)\n",
    "from sklearn.impute import SimpleImputer\n",
    "\n",
    "imputer = SimpleImputer(strategy='mean')\n",
    "X_train_imputed = imputer.fit_transform(X_train)\n",
    "# y_train_imputed = imputer.fit_transform(y_train)\n",
    "\n",
    "print(X_train.shape)\n",
    "print(X_train)\n",
    "\"\"\""
   ]
  },
  {
   "cell_type": "code",
   "execution_count": 128,
   "metadata": {},
   "outputs": [
    {
     "data": {
      "text/html": [
       "<style>#sk-container-id-8 {color: black;}#sk-container-id-8 pre{padding: 0;}#sk-container-id-8 div.sk-toggleable {background-color: white;}#sk-container-id-8 label.sk-toggleable__label {cursor: pointer;display: block;width: 100%;margin-bottom: 0;padding: 0.3em;box-sizing: border-box;text-align: center;}#sk-container-id-8 label.sk-toggleable__label-arrow:before {content: \"▸\";float: left;margin-right: 0.25em;color: #696969;}#sk-container-id-8 label.sk-toggleable__label-arrow:hover:before {color: black;}#sk-container-id-8 div.sk-estimator:hover label.sk-toggleable__label-arrow:before {color: black;}#sk-container-id-8 div.sk-toggleable__content {max-height: 0;max-width: 0;overflow: hidden;text-align: left;background-color: #f0f8ff;}#sk-container-id-8 div.sk-toggleable__content pre {margin: 0.2em;color: black;border-radius: 0.25em;background-color: #f0f8ff;}#sk-container-id-8 input.sk-toggleable__control:checked~div.sk-toggleable__content {max-height: 200px;max-width: 100%;overflow: auto;}#sk-container-id-8 input.sk-toggleable__control:checked~label.sk-toggleable__label-arrow:before {content: \"▾\";}#sk-container-id-8 div.sk-estimator input.sk-toggleable__control:checked~label.sk-toggleable__label {background-color: #d4ebff;}#sk-container-id-8 div.sk-label input.sk-toggleable__control:checked~label.sk-toggleable__label {background-color: #d4ebff;}#sk-container-id-8 input.sk-hidden--visually {border: 0;clip: rect(1px 1px 1px 1px);clip: rect(1px, 1px, 1px, 1px);height: 1px;margin: -1px;overflow: hidden;padding: 0;position: absolute;width: 1px;}#sk-container-id-8 div.sk-estimator {font-family: monospace;background-color: #f0f8ff;border: 1px dotted black;border-radius: 0.25em;box-sizing: border-box;margin-bottom: 0.5em;}#sk-container-id-8 div.sk-estimator:hover {background-color: #d4ebff;}#sk-container-id-8 div.sk-parallel-item::after {content: \"\";width: 100%;border-bottom: 1px solid gray;flex-grow: 1;}#sk-container-id-8 div.sk-label:hover label.sk-toggleable__label {background-color: #d4ebff;}#sk-container-id-8 div.sk-serial::before {content: \"\";position: absolute;border-left: 1px solid gray;box-sizing: border-box;top: 0;bottom: 0;left: 50%;z-index: 0;}#sk-container-id-8 div.sk-serial {display: flex;flex-direction: column;align-items: center;background-color: white;padding-right: 0.2em;padding-left: 0.2em;position: relative;}#sk-container-id-8 div.sk-item {position: relative;z-index: 1;}#sk-container-id-8 div.sk-parallel {display: flex;align-items: stretch;justify-content: center;background-color: white;position: relative;}#sk-container-id-8 div.sk-item::before, #sk-container-id-8 div.sk-parallel-item::before {content: \"\";position: absolute;border-left: 1px solid gray;box-sizing: border-box;top: 0;bottom: 0;left: 50%;z-index: -1;}#sk-container-id-8 div.sk-parallel-item {display: flex;flex-direction: column;z-index: 1;position: relative;background-color: white;}#sk-container-id-8 div.sk-parallel-item:first-child::after {align-self: flex-end;width: 50%;}#sk-container-id-8 div.sk-parallel-item:last-child::after {align-self: flex-start;width: 50%;}#sk-container-id-8 div.sk-parallel-item:only-child::after {width: 0;}#sk-container-id-8 div.sk-dashed-wrapped {border: 1px dashed gray;margin: 0 0.4em 0.5em 0.4em;box-sizing: border-box;padding-bottom: 0.4em;background-color: white;}#sk-container-id-8 div.sk-label label {font-family: monospace;font-weight: bold;display: inline-block;line-height: 1.2em;}#sk-container-id-8 div.sk-label-container {text-align: center;}#sk-container-id-8 div.sk-container {/* jupyter's `normalize.less` sets `[hidden] { display: none; }` but bootstrap.min.css set `[hidden] { display: none !important; }` so we also need the `!important` here to be able to override the default hidden behavior on the sphinx rendered scikit-learn.org. See: https://github.com/scikit-learn/scikit-learn/issues/21755 */display: inline-block !important;position: relative;}#sk-container-id-8 div.sk-text-repr-fallback {display: none;}</style><div id=\"sk-container-id-8\" class=\"sk-top-container\"><div class=\"sk-text-repr-fallback\"><pre>SVC(kernel=&#x27;poly&#x27;)</pre><b>In a Jupyter environment, please rerun this cell to show the HTML representation or trust the notebook. <br />On GitHub, the HTML representation is unable to render, please try loading this page with nbviewer.org.</b></div><div class=\"sk-container\" hidden><div class=\"sk-item\"><div class=\"sk-estimator sk-toggleable\"><input class=\"sk-toggleable__control sk-hidden--visually\" id=\"sk-estimator-id-8\" type=\"checkbox\" checked><label for=\"sk-estimator-id-8\" class=\"sk-toggleable__label sk-toggleable__label-arrow\">SVC</label><div class=\"sk-toggleable__content\"><pre>SVC(kernel=&#x27;poly&#x27;)</pre></div></div></div></div></div>"
      ],
      "text/plain": [
       "SVC(kernel='poly')"
      ]
     },
     "execution_count": 128,
     "metadata": {},
     "output_type": "execute_result"
    }
   ],
   "source": [
    "from sklearn.svm import SVC\n",
    "from sklearn.metrics import accuracy_score\n",
    "\n",
    "# Initialize the SVM classifier\n",
    "svm_classifier = SVC(kernel='poly', C=1.0, gamma='scale')  # You can adjust hyperparameters\n",
    "\n",
    "# Train the model on the training set\n",
    "svm_classifier.fit(X_train, y_train)"
   ]
  },
  {
   "cell_type": "code",
   "execution_count": 129,
   "metadata": {},
   "outputs": [],
   "source": [
    "# Make predictions on the test set\n",
    "predictions = svm_classifier.predict(X_test)"
   ]
  },
  {
   "cell_type": "code",
   "execution_count": 130,
   "metadata": {},
   "outputs": [
    {
     "data": {
      "text/plain": [
       "array([1, 3, 3, 3, 1, 1, 1, 3, 2, 1, 3, 3, 1, 2, 2, 3, 3, 1, 1, 3, 1, 1,\n",
       "       2, 3, 3, 3, 1, 1, 3, 3, 3, 1, 3, 3, 1, 3, 1, 3, 3, 3, 3, 1, 1, 3,\n",
       "       1, 1, 1, 1, 3, 1, 3, 3, 3, 1, 3, 1, 3, 3, 1, 2, 1, 1, 3, 3, 3, 1,\n",
       "       2, 3, 3, 1, 3, 1, 1, 1, 3, 1, 3, 1, 3, 1, 1, 3, 2, 1, 3, 3, 2, 1,\n",
       "       1, 3, 1, 1, 3, 3, 3, 1, 1, 1, 2, 3, 1, 1, 2, 1, 3, 1, 1, 1, 1, 2,\n",
       "       1, 3, 3, 3, 3, 1, 2, 1, 3, 1, 1, 2, 3, 3, 3, 3, 1, 2, 3, 1, 3, 2,\n",
       "       3, 3, 2, 1, 1, 3, 3, 1, 3, 2, 3, 1, 3, 1, 1, 2, 3, 3, 3, 3, 3, 3,\n",
       "       1, 3, 3, 1, 1, 2, 3, 3, 1, 1, 3, 2, 3, 3, 3, 1, 3, 1, 1, 1, 3, 1,\n",
       "       3, 3, 3, 3, 1, 1, 2, 3, 3, 3, 3, 1, 1, 1, 3, 3, 3, 3, 1, 1, 3, 3,\n",
       "       1, 1, 3, 1, 1, 1, 1, 3, 1, 3, 3, 1, 3, 3, 1, 3, 1, 3, 3, 3, 1, 3,\n",
       "       1, 1, 3, 1, 3, 1, 3, 1, 3, 1, 3, 3, 1, 3, 1, 3, 1, 1, 3, 1, 1, 1,\n",
       "       3, 3, 3, 3, 1, 3, 1, 1, 1, 2, 3, 1, 2, 1, 3, 3, 2, 3, 1, 3, 1, 3,\n",
       "       1, 1, 1, 1, 1, 3, 1, 1, 1, 3, 3, 3, 3, 3, 1, 1, 3, 2, 3, 2, 1, 3,\n",
       "       3, 1, 1, 3, 3, 3, 3, 3, 1, 3, 1, 3, 3, 3, 1, 1, 1, 3, 1, 1, 2, 1,\n",
       "       1, 3, 3, 3, 3, 1, 3, 1, 1, 1, 1, 2, 3, 1, 3, 3, 3, 2, 1, 3, 1, 1,\n",
       "       1, 3, 1, 3, 1, 1, 3, 3, 1, 3, 1, 2, 3, 1, 1, 3, 2, 1, 1, 3, 3, 1,\n",
       "       1, 3, 3, 1, 1, 3, 3, 3, 1, 1, 3, 1, 3, 1, 1, 2, 2, 1, 2, 3, 2, 1,\n",
       "       3, 1, 1, 1, 3, 2, 1, 1, 2, 1, 1, 3, 1, 3, 1, 3, 3, 3, 3, 3, 1, 1,\n",
       "       3, 1, 1, 3, 3, 1, 1, 3, 3, 1, 3, 3, 1, 1, 2, 3, 1, 1, 3, 1, 3, 3,\n",
       "       3, 3, 1, 3, 1, 1, 1, 1, 3, 3], dtype=int64)"
      ]
     },
     "execution_count": 130,
     "metadata": {},
     "output_type": "execute_result"
    }
   ],
   "source": [
    "predictions"
   ]
  },
  {
   "cell_type": "code",
   "execution_count": 131,
   "metadata": {},
   "outputs": [
    {
     "data": {
      "text/plain": [
       "array([1, 3, 2, 2, 0, 2, 1, 5, 1, 3, 6, 2, 2, 2, 2, 3, 1, 1, 3, 2, 5, 2,\n",
       "       4, 1, 2, 5, 1, 3, 3, 1, 0, 3, 2, 1, 0, 3, 1, 3, 5, 2, 3, 3, 6, 1,\n",
       "       0, 2, 1, 2, 0, 1, 6, 1, 3, 1, 3, 2, 1, 1, 3, 2, 2, 6, 1, 1, 1, 0,\n",
       "       3, 0, 6, 1, 1, 1, 1, 3, 3, 0, 3, 2, 5, 1, 1, 2, 0, 2, 1, 0, 0, 2,\n",
       "       2, 3, 0, 5, 2, 2, 3, 1, 4, 3, 2, 1, 0, 6, 2, 0, 2, 2, 3, 2, 2, 5,\n",
       "       3, 2, 3, 3, 6, 2, 5, 1, 1, 2, 0, 6, 6, 1, 1, 3, 1, 2, 1, 1, 2, 2,\n",
       "       3, 6, 2, 1, 2, 1, 3, 1, 2, 1, 3, 0, 3, 1, 2, 3, 2, 3, 3, 3, 3, 6,\n",
       "       3, 3, 2, 2, 1, 1, 4, 3, 3, 3, 2, 3, 3, 2, 3, 2, 5, 1, 3, 1, 3, 3,\n",
       "       0, 3, 6, 2, 1, 6, 2, 3, 1, 1, 3, 5, 6, 3, 1, 5, 3, 2, 3, 1, 4, 3,\n",
       "       0, 0, 1, 0, 6, 1, 5, 2, 1, 3, 3, 1, 6, 5, 3, 3, 6, 5, 3, 6, 1, 3,\n",
       "       6, 0, 1, 1, 0, 2, 3, 3, 6, 1, 2, 2, 1, 1, 0, 1, 1, 2, 3, 6, 3, 2,\n",
       "       5, 3, 2, 1, 1, 2, 2, 2, 3, 3, 2, 2, 2, 1, 3, 3, 2, 1, 1, 1, 6, 3,\n",
       "       4, 2, 6, 1, 2, 6, 2, 0, 5, 2, 1, 3, 1, 3, 1, 2, 3, 5, 3, 1, 2, 3,\n",
       "       3, 1, 4, 2, 6, 2, 1, 1, 6, 3, 3, 1, 3, 1, 1, 1, 2, 1, 2, 3, 2, 5,\n",
       "       1, 0, 1, 2, 1, 3, 3, 1, 3, 2, 0, 0, 5, 3, 5, 2, 6, 3, 0, 5, 2, 1,\n",
       "       2, 1, 1, 2, 2, 1, 1, 3, 1, 6, 1, 2, 2, 3, 1, 1, 3, 1, 2, 3, 5, 3,\n",
       "       0, 3, 3, 2, 0, 1, 5, 3, 5, 2, 4, 2, 1, 1, 2, 5, 0, 1, 3, 3, 2, 1,\n",
       "       3, 0, 0, 3, 2, 3, 1, 2, 5, 1, 0, 1, 0, 3, 1, 5, 3, 6, 2, 3, 2, 1,\n",
       "       3, 2, 5, 2, 3, 2, 2, 1, 3, 3, 3, 0, 0, 1, 1, 0, 1, 0, 3, 0, 3, 2,\n",
       "       5, 1, 0, 2, 3, 1, 1, 0, 2, 2], dtype=int64)"
      ]
     },
     "execution_count": 131,
     "metadata": {},
     "output_type": "execute_result"
    }
   ],
   "source": [
    "# y_test = np.argmax(y_test, axis=1)\n",
    "y_test"
   ]
  },
  {
   "cell_type": "code",
   "execution_count": 132,
   "metadata": {},
   "outputs": [
    {
     "name": "stdout",
     "output_type": "stream",
     "text": [
      "Test Accuracy: 33.64%\n",
      "F1 Score: 0.34\n",
      "Recall: 0.34\n"
     ]
    }
   ],
   "source": [
    "from sklearn.metrics import f1_score, recall_score, accuracy_score\n",
    "\n",
    "accuracy = accuracy_score(predictions, y_test) \n",
    "print(\"Test Accuracy: %.2f%%\" %(accuracy*100.0))\n",
    "\n",
    "f1 = f1_score(y_test, predictions, average='micro')  \n",
    "print(\"F1 Score: %.2f\" % f1)\n",
    "\n",
    "recall = recall_score(y_test, predictions, average='micro')\n",
    "print(\"Recall: %.2f\" % recall)"
   ]
  },
  {
   "cell_type": "code",
   "execution_count": null,
   "metadata": {},
   "outputs": [],
   "source": []
  }
 ],
 "metadata": {
  "kernelspec": {
   "display_name": "Python 3",
   "language": "python",
   "name": "python3"
  },
  "language_info": {
   "codemirror_mode": {
    "name": "ipython",
    "version": 3
   },
   "file_extension": ".py",
   "mimetype": "text/x-python",
   "name": "python",
   "nbconvert_exporter": "python",
   "pygments_lexer": "ipython3",
   "version": "3.11.6"
  }
 },
 "nbformat": 4,
 "nbformat_minor": 2
}
